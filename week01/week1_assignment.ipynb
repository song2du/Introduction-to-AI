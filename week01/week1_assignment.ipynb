{
 "cells": [
  {
   "cell_type": "code",
   "execution_count": 5,
   "id": "af44d8d9-16f4-4ff0-ba84-7ae35c5d156c",
   "metadata": {},
   "outputs": [],
   "source": [
    "import pandas as pd\n",
    "from sklearn.model_selection import train_test_split\n",
    "from sklearn.metrics import accuracy_score\n",
    "from sklearn.tree import DecisionTreeClassifier\n",
    "from sklearn.ensemble import RandomForestClassifier\n",
    "from sklearn.svm import SVC\n",
    "from sklearn.linear_model import LogisticRegression\n",
    "from sklearn.preprocessing import LabelEncoder"
   ]
  },
  {
   "cell_type": "markdown",
   "id": "5eda15a5-66d9-43a2-b1e0-83bffaef129d",
   "metadata": {},
   "source": [
    "### 데이터셋 로드"
   ]
  },
  {
   "cell_type": "code",
   "execution_count": 7,
   "id": "23058bfe-5477-4f01-9c33-8b50e05aa8bd",
   "metadata": {},
   "outputs": [],
   "source": [
    "file = \"C:/Users/송이두/Desktop/인공지능 개론/과제/data/iris.csv\"\n",
    "iris_dataset = pd.read_csv(file)"
   ]
  },
  {
   "cell_type": "markdown",
   "id": "bc0a3cc3-fcec-4842-b4b9-8af1fcd333bf",
   "metadata": {},
   "source": [
    "### 데이터셋 살펴보기"
   ]
  },
  {
   "cell_type": "code",
   "execution_count": 8,
   "id": "7a8a473c-a5f5-417b-b690-eb6aca605e5d",
   "metadata": {},
   "outputs": [
    {
     "data": {
      "text/html": [
       "<div>\n",
       "<style scoped>\n",
       "    .dataframe tbody tr th:only-of-type {\n",
       "        vertical-align: middle;\n",
       "    }\n",
       "\n",
       "    .dataframe tbody tr th {\n",
       "        vertical-align: top;\n",
       "    }\n",
       "\n",
       "    .dataframe thead th {\n",
       "        text-align: right;\n",
       "    }\n",
       "</style>\n",
       "<table border=\"1\" class=\"dataframe\">\n",
       "  <thead>\n",
       "    <tr style=\"text-align: right;\">\n",
       "      <th></th>\n",
       "      <th>SepalLength</th>\n",
       "      <th>SepalWidth</th>\n",
       "      <th>PetalLength</th>\n",
       "      <th>PetalWidth</th>\n",
       "      <th>Name</th>\n",
       "    </tr>\n",
       "  </thead>\n",
       "  <tbody>\n",
       "    <tr>\n",
       "      <th>0</th>\n",
       "      <td>5.1</td>\n",
       "      <td>3.5</td>\n",
       "      <td>1.4</td>\n",
       "      <td>0.2</td>\n",
       "      <td>Iris-setosa</td>\n",
       "    </tr>\n",
       "    <tr>\n",
       "      <th>1</th>\n",
       "      <td>4.9</td>\n",
       "      <td>3.0</td>\n",
       "      <td>1.4</td>\n",
       "      <td>0.2</td>\n",
       "      <td>Iris-setosa</td>\n",
       "    </tr>\n",
       "    <tr>\n",
       "      <th>2</th>\n",
       "      <td>4.7</td>\n",
       "      <td>3.2</td>\n",
       "      <td>1.3</td>\n",
       "      <td>0.2</td>\n",
       "      <td>Iris-setosa</td>\n",
       "    </tr>\n",
       "    <tr>\n",
       "      <th>3</th>\n",
       "      <td>4.6</td>\n",
       "      <td>3.1</td>\n",
       "      <td>1.5</td>\n",
       "      <td>0.2</td>\n",
       "      <td>Iris-setosa</td>\n",
       "    </tr>\n",
       "    <tr>\n",
       "      <th>4</th>\n",
       "      <td>5.0</td>\n",
       "      <td>3.6</td>\n",
       "      <td>1.4</td>\n",
       "      <td>0.2</td>\n",
       "      <td>Iris-setosa</td>\n",
       "    </tr>\n",
       "  </tbody>\n",
       "</table>\n",
       "</div>"
      ],
      "text/plain": [
       "   SepalLength  SepalWidth  PetalLength  PetalWidth         Name\n",
       "0          5.1         3.5          1.4         0.2  Iris-setosa\n",
       "1          4.9         3.0          1.4         0.2  Iris-setosa\n",
       "2          4.7         3.2          1.3         0.2  Iris-setosa\n",
       "3          4.6         3.1          1.5         0.2  Iris-setosa\n",
       "4          5.0         3.6          1.4         0.2  Iris-setosa"
      ]
     },
     "execution_count": 8,
     "metadata": {},
     "output_type": "execute_result"
    }
   ],
   "source": [
    "# 데이터셋 상단의 5행 출력\n",
    "iris_dataset.head()"
   ]
  },
  {
   "cell_type": "code",
   "execution_count": 9,
   "id": "6de1a407-d099-437c-8c2f-891519cfadae",
   "metadata": {},
   "outputs": [
    {
     "data": {
      "text/plain": [
       "Index(['SepalLength', 'SepalWidth', 'PetalLength', 'PetalWidth', 'Name'], dtype='object')"
      ]
     },
     "execution_count": 9,
     "metadata": {},
     "output_type": "execute_result"
    }
   ],
   "source": [
    "# 데이터셋의 컬럼명 출력\n",
    "iris_dataset.columns"
   ]
  },
  {
   "cell_type": "code",
   "execution_count": 10,
   "id": "fa467564-5d42-4fca-ba5b-7575f31a1b86",
   "metadata": {},
   "outputs": [
    {
     "name": "stdout",
     "output_type": "stream",
     "text": [
      "<class 'pandas.core.frame.DataFrame'>\n",
      "RangeIndex: 150 entries, 0 to 149\n",
      "Data columns (total 5 columns):\n",
      " #   Column       Non-Null Count  Dtype  \n",
      "---  ------       --------------  -----  \n",
      " 0   SepalLength  150 non-null    float64\n",
      " 1   SepalWidth   150 non-null    float64\n",
      " 2   PetalLength  150 non-null    float64\n",
      " 3   PetalWidth   150 non-null    float64\n",
      " 4   Name         150 non-null    object \n",
      "dtypes: float64(4), object(1)\n",
      "memory usage: 6.0+ KB\n"
     ]
    }
   ],
   "source": [
    "# 데이터셋 내 데이터의 전반적인 정보 확인\n",
    "iris_dataset.info()"
   ]
  },
  {
   "cell_type": "markdown",
   "id": "a8cf12fa-0b16-4ee2-820a-1d2620b82c30",
   "metadata": {},
   "source": [
    "### 훈련 세트, 테스트 세트 분리"
   ]
  },
  {
   "cell_type": "code",
   "execution_count": 11,
   "id": "434fec56-1dab-4579-b54b-f9e7272f1e18",
   "metadata": {},
   "outputs": [],
   "source": [
    "#데이터값과 타깃값 분리\n",
    "X = iris_dataset.drop(\"Name\", axis=1)\n",
    "y = iris_dataset[\"Name\"]\n",
    "\n",
    "#문자열 라벨을 숫자값으로 변환\n",
    "label_encoder = LabelEncoder()\n",
    "y = label_encoder.fit_transform(y)"
   ]
  },
  {
   "cell_type": "code",
   "execution_count": 12,
   "id": "61a3207b-2416-4086-af2e-1600d96dd172",
   "metadata": {},
   "outputs": [],
   "source": [
    "#훈련 세트와 테스트 세트 분리\n",
    "X_train, X_test, y_train, y_test = train_test_split(X, y, test_size=0.2, random_state=0)"
   ]
  },
  {
   "cell_type": "markdown",
   "id": "9ca8aa03-c4dd-4f58-a266-ab8211d5c13a",
   "metadata": {},
   "source": [
    "### DT(의사결정 트리) 분류"
   ]
  },
  {
   "cell_type": "code",
   "execution_count": 13,
   "id": "b9fb5ef7-41db-40ce-88f6-050690392319",
   "metadata": {},
   "outputs": [
    {
     "name": "stdout",
     "output_type": "stream",
     "text": [
      "DT의 정확도: 1.0\n"
     ]
    }
   ],
   "source": [
    "# 모델 선언\n",
    "dt_clf = DecisionTreeClassifier(random_state=0)\n",
    "# 모델 학습\n",
    "dt_clf.fit(X_train, y_train)\n",
    "#예측 생성\n",
    "pred_dt = dt_clf.predict(X_test)\n",
    "#정확도 평가\n",
    "acc_dt = accuracy_score(y_test, pred_dt)\n",
    "print(f\"DT의 정확도: {acc_dt}\")"
   ]
  },
  {
   "cell_type": "markdown",
   "id": "9c0f69cd-74b0-41ef-8ae3-826192e3298a",
   "metadata": {},
   "source": [
    "### RF(랜덤 포레스트) 분류"
   ]
  },
  {
   "cell_type": "code",
   "execution_count": 14,
   "id": "2065ea2a-4ad9-4542-a9ce-5b40624f8286",
   "metadata": {},
   "outputs": [
    {
     "name": "stdout",
     "output_type": "stream",
     "text": [
      "RF의 정확도: 1.0\n"
     ]
    }
   ],
   "source": [
    "# 모델 선언\n",
    "rf_clf = RandomForestClassifier(random_state=0)\n",
    "# 모델 학습\n",
    "rf_clf.fit(X_train, y_train)\n",
    "#예측 생성\n",
    "pred_rf = rf_clf.predict(X_test)\n",
    "#정확도 평가\n",
    "acc_rf = accuracy_score(y_test, pred_rf)\n",
    "print(f\"RF의 정확도: {acc_rf}\")"
   ]
  },
  {
   "cell_type": "markdown",
   "id": "37edc337-446e-4448-8087-35a370ea62ed",
   "metadata": {},
   "source": [
    "### SVM(서포트 벡터 머신) 분류"
   ]
  },
  {
   "cell_type": "code",
   "execution_count": 15,
   "id": "5b26085d-4c4f-459c-99b2-ff0655879044",
   "metadata": {},
   "outputs": [
    {
     "name": "stdout",
     "output_type": "stream",
     "text": [
      "SVM의 정확도: 1.0\n"
     ]
    }
   ],
   "source": [
    "# 모델 선언\n",
    "svm_clf = SVC(random_state=0)\n",
    "# 모델 학습\n",
    "svm_clf.fit(X_train, y_train)\n",
    "#예측 생성\n",
    "pred_svm = svm_clf.predict(X_test)\n",
    "#정확도 평가\n",
    "acc_svm = accuracy_score(y_test, pred_svm)\n",
    "print(f\"SVM의 정확도: {acc_svm}\")"
   ]
  },
  {
   "cell_type": "markdown",
   "id": "a2234de6-8009-4ce6-ac0f-15ea6d966dc0",
   "metadata": {},
   "source": [
    "### LR(로지스틱 회귀) 분류"
   ]
  },
  {
   "cell_type": "code",
   "execution_count": 16,
   "id": "88fb673b-6f08-4fb9-b8ae-abd01e70ab51",
   "metadata": {},
   "outputs": [
    {
     "name": "stdout",
     "output_type": "stream",
     "text": [
      "LR의 정확도: 1.0\n"
     ]
    }
   ],
   "source": [
    "# 모델 선언\n",
    "lr_clf = LogisticRegression(random_state=0)\n",
    "# 모델 학습\n",
    "lr_clf.fit(X_train, y_train)\n",
    "#예측 생성\n",
    "pred_lr = lr_clf.predict(X_test)\n",
    "#정확도 평가\n",
    "acc_lr = accuracy_score(y_test, pred_svm)\n",
    "print(f\"LR의 정확도: {acc_lr}\")"
   ]
  }
 ],
 "metadata": {
  "kernelspec": {
   "display_name": "Python 3 (ipykernel)",
   "language": "python",
   "name": "python3"
  },
  "language_info": {
   "codemirror_mode": {
    "name": "ipython",
    "version": 3
   },
   "file_extension": ".py",
   "mimetype": "text/x-python",
   "name": "python",
   "nbconvert_exporter": "python",
   "pygments_lexer": "ipython3",
   "version": "3.12.7"
  }
 },
 "nbformat": 4,
 "nbformat_minor": 5
}
