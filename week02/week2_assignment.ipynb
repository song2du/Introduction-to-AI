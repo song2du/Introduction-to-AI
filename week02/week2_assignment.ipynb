{
 "cells": [
  {
   "cell_type": "code",
   "execution_count": 62,
   "id": "72934351-b77b-4dad-9133-5b591f36e73d",
   "metadata": {},
   "outputs": [],
   "source": [
    "import pandas as pd\n",
    "import matplotlib.pyplot as plt\n",
    "from sklearn.preprocessing import LabelEncoder\n",
    "from sklearn.model_selection import train_test_split\n",
    "from sklearn.metrics import confusion_matrix\n",
    "from sklearn.metrics import accuracy_score\n",
    "from sklearn.tree import DecisionTreeClassifier\n",
    "from sklearn.ensemble import RandomForestClassifier\n",
    "from sklearn.linear_model import LogisticRegression\n",
    "from sklearn.neighbors import KNeighborsClassifier\n",
    "from sklearn.svm import SVC\n",
    "from sklearn.preprocessing import StandardScaler"
   ]
  },
  {
   "cell_type": "markdown",
   "id": "43ee9f0a-590e-456c-a25f-57f84c43a512",
   "metadata": {},
   "source": [
    "## 1. 데이터 전처리"
   ]
  },
  {
   "cell_type": "markdown",
   "id": "08a3676a-d813-4b0c-92c9-0aeabd11f0bd",
   "metadata": {},
   "source": [
    "### 데이터 로딩"
   ]
  },
  {
   "cell_type": "code",
   "execution_count": 6,
   "id": "8c054dd5-14da-4031-b08e-54f6f2b226af",
   "metadata": {},
   "outputs": [],
   "source": [
    "# 로컬 csv 파일 로드\n",
    "file = \"C:/Users/송이두/Desktop/가천대/2-1/인공지능개론/과제/data/titanic.csv\"\n",
    "titanic_data = pd.read_csv(file)"
   ]
  },
  {
   "cell_type": "code",
   "execution_count": 7,
   "id": "5fa6da5f-504b-49d5-8d6c-83fca7ee0195",
   "metadata": {},
   "outputs": [
    {
     "data": {
      "text/html": [
       "<div>\n",
       "<style scoped>\n",
       "    .dataframe tbody tr th:only-of-type {\n",
       "        vertical-align: middle;\n",
       "    }\n",
       "\n",
       "    .dataframe tbody tr th {\n",
       "        vertical-align: top;\n",
       "    }\n",
       "\n",
       "    .dataframe thead th {\n",
       "        text-align: right;\n",
       "    }\n",
       "</style>\n",
       "<table border=\"1\" class=\"dataframe\">\n",
       "  <thead>\n",
       "    <tr style=\"text-align: right;\">\n",
       "      <th></th>\n",
       "      <th>PassengerId</th>\n",
       "      <th>Survived</th>\n",
       "      <th>Pclass</th>\n",
       "      <th>Name</th>\n",
       "      <th>Sex</th>\n",
       "      <th>Age</th>\n",
       "      <th>SibSp</th>\n",
       "      <th>Parch</th>\n",
       "      <th>Ticket</th>\n",
       "      <th>Fare</th>\n",
       "      <th>Cabin</th>\n",
       "      <th>Embarked</th>\n",
       "    </tr>\n",
       "  </thead>\n",
       "  <tbody>\n",
       "    <tr>\n",
       "      <th>0</th>\n",
       "      <td>1</td>\n",
       "      <td>0</td>\n",
       "      <td>3</td>\n",
       "      <td>Braund, Mr. Owen Harris</td>\n",
       "      <td>male</td>\n",
       "      <td>22.0</td>\n",
       "      <td>1</td>\n",
       "      <td>0</td>\n",
       "      <td>A/5 21171</td>\n",
       "      <td>7.2500</td>\n",
       "      <td>NaN</td>\n",
       "      <td>S</td>\n",
       "    </tr>\n",
       "    <tr>\n",
       "      <th>1</th>\n",
       "      <td>2</td>\n",
       "      <td>1</td>\n",
       "      <td>1</td>\n",
       "      <td>Cumings, Mrs. John Bradley (Florence Briggs Th...</td>\n",
       "      <td>female</td>\n",
       "      <td>38.0</td>\n",
       "      <td>1</td>\n",
       "      <td>0</td>\n",
       "      <td>PC 17599</td>\n",
       "      <td>71.2833</td>\n",
       "      <td>C85</td>\n",
       "      <td>C</td>\n",
       "    </tr>\n",
       "    <tr>\n",
       "      <th>2</th>\n",
       "      <td>3</td>\n",
       "      <td>1</td>\n",
       "      <td>3</td>\n",
       "      <td>Heikkinen, Miss. Laina</td>\n",
       "      <td>female</td>\n",
       "      <td>26.0</td>\n",
       "      <td>0</td>\n",
       "      <td>0</td>\n",
       "      <td>STON/O2. 3101282</td>\n",
       "      <td>7.9250</td>\n",
       "      <td>NaN</td>\n",
       "      <td>S</td>\n",
       "    </tr>\n",
       "    <tr>\n",
       "      <th>3</th>\n",
       "      <td>4</td>\n",
       "      <td>1</td>\n",
       "      <td>1</td>\n",
       "      <td>Futrelle, Mrs. Jacques Heath (Lily May Peel)</td>\n",
       "      <td>female</td>\n",
       "      <td>35.0</td>\n",
       "      <td>1</td>\n",
       "      <td>0</td>\n",
       "      <td>113803</td>\n",
       "      <td>53.1000</td>\n",
       "      <td>C123</td>\n",
       "      <td>S</td>\n",
       "    </tr>\n",
       "    <tr>\n",
       "      <th>4</th>\n",
       "      <td>5</td>\n",
       "      <td>0</td>\n",
       "      <td>3</td>\n",
       "      <td>Allen, Mr. William Henry</td>\n",
       "      <td>male</td>\n",
       "      <td>35.0</td>\n",
       "      <td>0</td>\n",
       "      <td>0</td>\n",
       "      <td>373450</td>\n",
       "      <td>8.0500</td>\n",
       "      <td>NaN</td>\n",
       "      <td>S</td>\n",
       "    </tr>\n",
       "  </tbody>\n",
       "</table>\n",
       "</div>"
      ],
      "text/plain": [
       "   PassengerId  Survived  Pclass  \\\n",
       "0            1         0       3   \n",
       "1            2         1       1   \n",
       "2            3         1       3   \n",
       "3            4         1       1   \n",
       "4            5         0       3   \n",
       "\n",
       "                                                Name     Sex   Age  SibSp  \\\n",
       "0                            Braund, Mr. Owen Harris    male  22.0      1   \n",
       "1  Cumings, Mrs. John Bradley (Florence Briggs Th...  female  38.0      1   \n",
       "2                             Heikkinen, Miss. Laina  female  26.0      0   \n",
       "3       Futrelle, Mrs. Jacques Heath (Lily May Peel)  female  35.0      1   \n",
       "4                           Allen, Mr. William Henry    male  35.0      0   \n",
       "\n",
       "   Parch            Ticket     Fare Cabin Embarked  \n",
       "0      0         A/5 21171   7.2500   NaN        S  \n",
       "1      0          PC 17599  71.2833   C85        C  \n",
       "2      0  STON/O2. 3101282   7.9250   NaN        S  \n",
       "3      0            113803  53.1000  C123        S  \n",
       "4      0            373450   8.0500   NaN        S  "
      ]
     },
     "execution_count": 7,
     "metadata": {},
     "output_type": "execute_result"
    }
   ],
   "source": [
    "# 데이터셋의 첫 5행 출력\n",
    "titanic_data.head()"
   ]
  },
  {
   "cell_type": "code",
   "execution_count": 8,
   "id": "0159e8e6-e264-4d46-a107-f6b115c04ca0",
   "metadata": {},
   "outputs": [
    {
     "name": "stdout",
     "output_type": "stream",
     "text": [
      "<class 'pandas.core.frame.DataFrame'>\n",
      "RangeIndex: 891 entries, 0 to 890\n",
      "Data columns (total 12 columns):\n",
      " #   Column       Non-Null Count  Dtype  \n",
      "---  ------       --------------  -----  \n",
      " 0   PassengerId  891 non-null    int64  \n",
      " 1   Survived     891 non-null    int64  \n",
      " 2   Pclass       891 non-null    int64  \n",
      " 3   Name         891 non-null    object \n",
      " 4   Sex          891 non-null    object \n",
      " 5   Age          714 non-null    float64\n",
      " 6   SibSp        891 non-null    int64  \n",
      " 7   Parch        891 non-null    int64  \n",
      " 8   Ticket       891 non-null    object \n",
      " 9   Fare         891 non-null    float64\n",
      " 10  Cabin        204 non-null    object \n",
      " 11  Embarked     889 non-null    object \n",
      "dtypes: float64(2), int64(5), object(5)\n",
      "memory usage: 83.7+ KB\n"
     ]
    }
   ],
   "source": [
    "# 데이터셋의 전반적인 정보 확인\n",
    "titanic_data.info()"
   ]
  },
  {
   "cell_type": "markdown",
   "id": "0fad5f51-9a3b-4720-a78e-7219c9e69914",
   "metadata": {},
   "source": [
    "### 결측치 확인"
   ]
  },
  {
   "cell_type": "code",
   "execution_count": 61,
   "id": "6e68af73-7c9f-4ff1-b840-70d5918e6565",
   "metadata": {},
   "outputs": [
    {
     "data": {
      "text/plain": [
       "PassengerId    0\n",
       "Survived       0\n",
       "Pclass         0\n",
       "Name           0\n",
       "Sex            0\n",
       "Age            0\n",
       "SibSp          0\n",
       "Parch          0\n",
       "Ticket         0\n",
       "Fare           0\n",
       "Cabin          0\n",
       "Embarked       0\n",
       "dtype: int64"
      ]
     },
     "execution_count": 61,
     "metadata": {},
     "output_type": "execute_result"
    }
   ],
   "source": [
    "#isna()를 통해 각 데이터의 결측치 여부(True or False) 확인, sum()을 통해 True 값 합계 확인.\n",
    "titanic_data.isna().sum()"
   ]
  },
  {
   "cell_type": "markdown",
   "id": "8dc6a1cc-a1d1-457a-a167-cf8d347a27a4",
   "metadata": {},
   "source": [
    "### 결측치 제거"
   ]
  },
  {
   "cell_type": "code",
   "execution_count": 11,
   "id": "a62e4bbf-db96-4639-8c0c-8631c935db71",
   "metadata": {},
   "outputs": [],
   "source": [
    "# 수치형 특성인 Age는 평균값으로 대체\n",
    "mean_value = titanic_data['Age'].mean()\n",
    "titanic_data.fillna({'Age': mean_value}, inplace=True)\n",
    "# 범주형 특성인 Cabin과 Embarked는 최빈값으로 대체\n",
    "column_to_fillna = ['Cabin', 'Embarked']\n",
    "for column in column_to_fillna:\n",
    "    freq_value = titanic_data[column].mode()\n",
    "    titanic_data.fillna({column: freq_value}, inplace=True)"
   ]
  },
  {
   "cell_type": "code",
   "execution_count": 12,
   "id": "b7a8f7dc-5f8f-4a3c-8c5c-cb01d4245d2c",
   "metadata": {},
   "outputs": [
    {
     "data": {
      "text/plain": [
       "PassengerId    0\n",
       "Survived       0\n",
       "Pclass         0\n",
       "Name           0\n",
       "Sex            0\n",
       "Age            0\n",
       "SibSp          0\n",
       "Parch          0\n",
       "Ticket         0\n",
       "Fare           0\n",
       "Cabin          0\n",
       "Embarked       0\n",
       "dtype: int64"
      ]
     },
     "execution_count": 12,
     "metadata": {},
     "output_type": "execute_result"
    }
   ],
   "source": [
    "# 결측치 제거 후 데이터셋 확인\n",
    "titanic_data.isna().sum()"
   ]
  },
  {
   "cell_type": "markdown",
   "id": "10edf9ad-b836-4adb-8de7-ebe6f5a5ef38",
   "metadata": {},
   "source": [
    "### 레이블 확인 (imbalanced data)<br/>\n",
    "레이블 확인을 통해 사망자가 생존자보다 많음을 알 수 있다.<br/>\n",
    "심각한 수준의 데이터 불균형은 아니지만, 모델 성능에 영향을 미칠 수 있는 잠재적인 불균형이다."
   ]
  },
  {
   "cell_type": "code",
   "execution_count": 19,
   "id": "f815f084-b1a5-46f4-9278-29b1a4936e81",
   "metadata": {},
   "outputs": [
    {
     "data": {
      "text/plain": [
       "Survived\n",
       "0    549\n",
       "1    342\n",
       "Name: count, dtype: int64"
      ]
     },
     "execution_count": 19,
     "metadata": {},
     "output_type": "execute_result"
    }
   ],
   "source": [
    "# value_counts()를 이용해 타깃 레이블의 빈도수 확인\n",
    "titanic_data['Survived'].value_counts()"
   ]
  },
  {
   "cell_type": "code",
   "execution_count": 26,
   "id": "05622eb1-ca48-4137-add2-71b8d99f7807",
   "metadata": {},
   "outputs": [
    {
     "data": {
      "image/png": "[encoded data removed]",
      "text/plain": [
       "<Figure size 640x480 with 1 Axes>"
      ]
     },
     "metadata": {},
     "output_type": "display_data"
    }
   ],
   "source": [
    "# plt 차트를 이용해 시각화\n",
    "x = titanic_data['Survived'].value_counts().index\n",
    "y = titanic_data['Survived'].value_counts().values\n",
    "plt.bar(x, y)\n",
    "plt.xticks(x)\n",
    "plt.xlabel('Survival Status')\n",
    "plt.ylabel(\"CountS\")\n",
    "plt.show()"
   ]
  },
  {
   "cell_type": "markdown",
   "id": "eed00947-a461-49d8-a96e-0f5b3dc153b3",
   "metadata": {},
   "source": [
    "### 불필요한 컬럼 제거<br/>\n",
    "타이타닉호 사망자, 생존자 분류에 불필요한 컬럼으로는 'PassengerId', 'Name', 'Ticket', 'Embarked'가 있다."
   ]
  },
  {
   "cell_type": "code",
   "execution_count": 29,
   "id": "d1c237e2-7694-4ed1-92ec-0c71f032353b",
   "metadata": {},
   "outputs": [],
   "source": [
    "# drop()을 통해 불필요한 컬럼 제거\n",
    "dropped_data = titanic_data.drop(['PassengerId', 'Name', 'Ticket', 'Embarked'], axis=1)"
   ]
  },
  {
   "cell_type": "code",
   "execution_count": 30,
   "id": "9f10260a-3842-4852-aeda-bf3dba8a246a",
   "metadata": {},
   "outputs": [
    {
     "data": {
      "text/html": [
       "<div>\n",
       "<style scoped>\n",
       "    .dataframe tbody tr th:only-of-type {\n",
       "        vertical-align: middle;\n",
       "    }\n",
       "\n",
       "    .dataframe tbody tr th {\n",
       "        vertical-align: top;\n",
       "    }\n",
       "\n",
       "    .dataframe thead th {\n",
       "        text-align: right;\n",
       "    }\n",
       "</style>\n",
       "<table border=\"1\" class=\"dataframe\">\n",
       "  <thead>\n",
       "    <tr style=\"text-align: right;\">\n",
       "      <th></th>\n",
       "      <th>Survived</th>\n",
       "      <th>Pclass</th>\n",
       "      <th>Sex</th>\n",
       "      <th>Age</th>\n",
       "      <th>SibSp</th>\n",
       "      <th>Parch</th>\n",
       "      <th>Fare</th>\n",
       "      <th>Cabin</th>\n",
       "    </tr>\n",
       "  </thead>\n",
       "  <tbody>\n",
       "    <tr>\n",
       "      <th>0</th>\n",
       "      <td>0</td>\n",
       "      <td>3</td>\n",
       "      <td>male</td>\n",
       "      <td>22.0</td>\n",
       "      <td>1</td>\n",
       "      <td>0</td>\n",
       "      <td>7.2500</td>\n",
       "      <td>B96 B98</td>\n",
       "    </tr>\n",
       "    <tr>\n",
       "      <th>1</th>\n",
       "      <td>1</td>\n",
       "      <td>1</td>\n",
       "      <td>female</td>\n",
       "      <td>38.0</td>\n",
       "      <td>1</td>\n",
       "      <td>0</td>\n",
       "      <td>71.2833</td>\n",
       "      <td>C85</td>\n",
       "    </tr>\n",
       "    <tr>\n",
       "      <th>2</th>\n",
       "      <td>1</td>\n",
       "      <td>3</td>\n",
       "      <td>female</td>\n",
       "      <td>26.0</td>\n",
       "      <td>0</td>\n",
       "      <td>0</td>\n",
       "      <td>7.9250</td>\n",
       "      <td>B96 B98</td>\n",
       "    </tr>\n",
       "    <tr>\n",
       "      <th>3</th>\n",
       "      <td>1</td>\n",
       "      <td>1</td>\n",
       "      <td>female</td>\n",
       "      <td>35.0</td>\n",
       "      <td>1</td>\n",
       "      <td>0</td>\n",
       "      <td>53.1000</td>\n",
       "      <td>C123</td>\n",
       "    </tr>\n",
       "    <tr>\n",
       "      <th>4</th>\n",
       "      <td>0</td>\n",
       "      <td>3</td>\n",
       "      <td>male</td>\n",
       "      <td>35.0</td>\n",
       "      <td>0</td>\n",
       "      <td>0</td>\n",
       "      <td>8.0500</td>\n",
       "      <td>B96 B98</td>\n",
       "    </tr>\n",
       "  </tbody>\n",
       "</table>\n",
       "</div>"
      ],
      "text/plain": [
       "   Survived  Pclass     Sex   Age  SibSp  Parch     Fare    Cabin\n",
       "0         0       3    male  22.0      1      0   7.2500  B96 B98\n",
       "1         1       1  female  38.0      1      0  71.2833      C85\n",
       "2         1       3  female  26.0      0      0   7.9250  B96 B98\n",
       "3         1       1  female  35.0      1      0  53.1000     C123\n",
       "4         0       3    male  35.0      0      0   8.0500  B96 B98"
      ]
     },
     "execution_count": 30,
     "metadata": {},
     "output_type": "execute_result"
    }
   ],
   "source": [
    "# 데이터셋 확인\n",
    "dropped_data.head()"
   ]
  },
  {
   "cell_type": "markdown",
   "id": "90361630-8cb0-46c4-90c4-a86b630446ba",
   "metadata": {},
   "source": [
    "### 인코딩<br/>\n",
    "데이터 학습을 위해 문자형 특성을 숫자형으로 변환한다.<br/>\n",
    "문자형 특성에는 'Sex', 'Cabin'이 있다."
   ]
  },
  {
   "cell_type": "code",
   "execution_count": 33,
   "id": "be3a7bfd-d13a-4c23-b2cb-d9da7408aade",
   "metadata": {},
   "outputs": [
    {
     "data": {
      "text/plain": [
       "Sex\n",
       "male      577\n",
       "female    314\n",
       "Name: count, dtype: int64"
      ]
     },
     "execution_count": 33,
     "metadata": {},
     "output_type": "execute_result"
    }
   ],
   "source": [
    "# Sex 컬럼의 고유값 확인\n",
    "dropped_data['Sex'].value_counts()"
   ]
  },
  {
   "cell_type": "code",
   "execution_count": 34,
   "id": "792fc19a-1b8a-4ac5-bf6f-6801a34b6cf6",
   "metadata": {},
   "outputs": [
    {
     "data": {
      "text/plain": [
       "Cabin\n",
       "B96 B98        691\n",
       "G6               4\n",
       "C23 C25 C27      4\n",
       "C22 C26          3\n",
       "F33              3\n",
       "              ... \n",
       "E34              1\n",
       "C7               1\n",
       "C54              1\n",
       "E36              1\n",
       "C148             1\n",
       "Name: count, Length: 147, dtype: int64"
      ]
     },
     "execution_count": 34,
     "metadata": {},
     "output_type": "execute_result"
    }
   ],
   "source": [
    "# Cabin 컬럼의 고유값 확인\n",
    "dropped_data['Cabin'].value_counts()"
   ]
  },
  {
   "cell_type": "code",
   "execution_count": 36,
   "id": "b06a6f49-162e-4a9c-ac9e-d12929ecb283",
   "metadata": {},
   "outputs": [],
   "source": [
    "#인코더 선언\n",
    "label_encoder = LabelEncoder()\n",
    "#인코딩 필요한 컬럼명 리스트 생성\n",
    "column_to_encode = ['Sex', 'Cabin']\n",
    "#인코딩 적용\n",
    "encoded_data = dropped_data.copy()\n",
    "for column in column_to_encode:\n",
    "    encoded_data[column] = label_encoder.fit_transform(encoded_data[column])"
   ]
  },
  {
   "cell_type": "code",
   "execution_count": 39,
   "id": "dda24f53-6b29-4959-990d-eee6483df6d4",
   "metadata": {},
   "outputs": [
    {
     "data": {
      "text/plain": [
       "Sex\n",
       "1    577\n",
       "0    314\n",
       "Name: count, dtype: int64"
      ]
     },
     "execution_count": 39,
     "metadata": {},
     "output_type": "execute_result"
    }
   ],
   "source": [
    "# Sex 컬럼의 고유값 확인\n",
    "encoded_data['Sex'].value_counts()"
   ]
  },
  {
   "cell_type": "code",
   "execution_count": 40,
   "id": "80b7d539-36e5-48b8-8d85-96614d5da703",
   "metadata": {},
   "outputs": [
    {
     "data": {
      "text/plain": [
       "Cabin\n",
       "47     691\n",
       "145      4\n",
       "63       4\n",
       "62       3\n",
       "142      3\n",
       "      ... \n",
       "124      1\n",
       "76       1\n",
       "72       1\n",
       "125      1\n",
       "60       1\n",
       "Name: count, Length: 147, dtype: int64"
      ]
     },
     "execution_count": 40,
     "metadata": {},
     "output_type": "execute_result"
    }
   ],
   "source": [
    "# Cabin 컬럼의 고유값 확인\n",
    "encoded_data['Cabin'].value_counts()"
   ]
  },
  {
   "cell_type": "markdown",
   "id": "0553af30-0538-47c3-9e32-137fe66ba8c0",
   "metadata": {},
   "source": [
    "## 2. 데이터 훈련 및 예측"
   ]
  },
  {
   "cell_type": "markdown",
   "id": "13b35f2f-bddb-43ba-aa07-47dcc8f00a2d",
   "metadata": {},
   "source": [
    "### 훈련 세트, 테스트 세트 분리"
   ]
  },
  {
   "cell_type": "code",
   "execution_count": 41,
   "id": "2c7ac7c5-9190-43c7-8c8e-99b1fe26afda",
   "metadata": {},
   "outputs": [],
   "source": [
    "X = encoded_data.drop(['Survived'], axis=1)\n",
    "y = encoded_data['Survived'].copy()"
   ]
  },
  {
   "cell_type": "code",
   "execution_count": 43,
   "id": "2d363d90-cdd6-4343-b0a1-0487904361e5",
   "metadata": {},
   "outputs": [],
   "source": [
    "X_train, X_test, y_train, y_test = train_test_split(X, y, test_size=0.2, random_state=0)"
   ]
  },
  {
   "cell_type": "markdown",
   "id": "26e93967-ea07-4f92-bf20-cad634ca85e3",
   "metadata": {},
   "source": [
    "### DT(의사결정 트리) 분류"
   ]
  },
  {
   "cell_type": "code",
   "execution_count": 48,
   "id": "65cca93a-6759-44fe-8355-b67c8a2cc381",
   "metadata": {},
   "outputs": [
    {
     "name": "stdout",
     "output_type": "stream",
     "text": [
      "accuracy: 0.7877094972067039\n",
      "confusion matrix:\n",
      "[[96 14]\n",
      " [24 45]]\n"
     ]
    }
   ],
   "source": [
    "# 모델 선언\n",
    "dt_clf = DecisionTreeClassifier(random_state=0)\n",
    "# 모델 학습\n",
    "dt_clf.fit(X_train, y_train)\n",
    "#예측 생성\n",
    "pred_dt = dt_clf.predict(X_test)\n",
    "# accuracy 및 confusion matrix 확인\n",
    "acc_dt = accuracy_score(y_test, pred_dt)\n",
    "print(f\"accuracy: {acc_dt}\")\n",
    "cm_dt = confusion_matrix(y_test, pred_dt)\n",
    "print(f\"confusion matrix:\\n{cm_dt}\")"
   ]
  },
  {
   "cell_type": "markdown",
   "id": "a1d2097c-f2f7-4f13-bbc0-4720b9890714",
   "metadata": {},
   "source": [
    "### RF(랜덤 포레스트) 분류"
   ]
  },
  {
   "cell_type": "code",
   "execution_count": 51,
   "id": "f36936e2-2683-4348-9854-d6038d7dd2f3",
   "metadata": {},
   "outputs": [
    {
     "name": "stdout",
     "output_type": "stream",
     "text": [
      "accuracy: 0.8100558659217877\n",
      "confusion matrix:\n",
      "[[96 14]\n",
      " [24 45]]\n"
     ]
    }
   ],
   "source": [
    "# 모델 선언\n",
    "rf_clf = RandomForestClassifier(random_state=0)\n",
    "# 모델 학습\n",
    "rf_clf.fit(X_train, y_train)\n",
    "#예측 생성\n",
    "pred_rf = rf_clf.predict(X_test)\n",
    "# accuracy 및 confusion matrix 확인\n",
    "acc_rf = accuracy_score(y_test, pred_rf)\n",
    "print(f\"accuracy: {acc_rf}\")\n",
    "cm_rf = confusion_matrix(y_test, pred_rf)\n",
    "print(f\"confusion matrix:\\n{cm_rf}\")"
   ]
  },
  {
   "cell_type": "markdown",
   "id": "40223220-0579-4ccc-b9dc-6860ef5de7e4",
   "metadata": {},
   "source": [
    "### LR(로지스틱 회귀) 분류"
   ]
  },
  {
   "cell_type": "code",
   "execution_count": 63,
   "id": "98e48cce-e666-4069-93ed-a76b5b0677d1",
   "metadata": {},
   "outputs": [
    {
     "name": "stdout",
     "output_type": "stream",
     "text": [
      "accuracy: 0.8212290502793296\n",
      "confusion matrix:\n",
      "[[95 15]\n",
      " [17 52]]\n"
     ]
    }
   ],
   "source": [
    "# 모델 선언\n",
    "lr_clf = LogisticRegression(random_state=0)\n",
    "# 모델의 수렴을 위한 스케일링\n",
    "scaler = StandardScaler()\n",
    "X_train_scaled = scaler.fit_transform(X_train)\n",
    "X_test_scaled = scaler.transform(X_test)\n",
    "# 모델 학습\n",
    "lr_clf.fit(X_train_scaled, y_train)\n",
    "#예측 생성\n",
    "pred_lr = lr_clf.predict(X_test_scaled)\n",
    "# accuracy 및 confusion matrix 확인\n",
    "acc_lr = accuracy_score(y_test, pred_lr)\n",
    "print(f\"accuracy: {acc_lr}\")\n",
    "cm_lr = confusion_matrix(y_test, pred_lr)\n",
    "print(f\"confusion matrix:\\n{cm_lr}\")"
   ]
  },
  {
   "cell_type": "markdown",
   "id": "4e5b5266-31df-48ce-b122-662ee68d4612",
   "metadata": {},
   "source": [
    "### KNN(K 최근접 이웃) 분류"
   ]
  },
  {
   "cell_type": "code",
   "execution_count": 57,
   "id": "6b55aa2f-5f2b-423c-967f-80b4d0db1cc3",
   "metadata": {},
   "outputs": [
    {
     "name": "stdout",
     "output_type": "stream",
     "text": [
      "accuracy: 0.7262569832402235\n",
      "confusion matrix:\n",
      "[[92 18]\n",
      " [31 38]]\n"
     ]
    }
   ],
   "source": [
    "#모델 선언\n",
    "knn_clf = KNeighborsClassifier(n_neighbors=3)\n",
    "# 모델 학습\n",
    "knn_clf.fit(X_train, y_train)\n",
    "#예측 생성\n",
    "pred_knn = knn_clf.predict(X_test)\n",
    "# accuracy 및 confusion matrix 확인\n",
    "acc_knn = accuracy_score(y_test, pred_knn)\n",
    "print(f\"accuracy: {acc_knn}\")\n",
    "cm_knn = confusion_matrix(y_test, pred_knn)\n",
    "print(f\"confusion matrix:\\n{cm_knn}\")"
   ]
  },
  {
   "cell_type": "markdown",
   "id": "11860888-13a1-454b-a5a4-8c27e2d48b86",
   "metadata": {},
   "source": [
    "### SVM(서포트 벡터 머신) 분류"
   ]
  },
  {
   "cell_type": "code",
   "execution_count": 60,
   "id": "4b9d83f1-422c-44eb-b63f-a6a743c8bdd4",
   "metadata": {},
   "outputs": [
    {
     "name": "stdout",
     "output_type": "stream",
     "text": [
      "accuracy: 0.7094972067039106\n",
      "confusion matrix:\n",
      "[[101   9]\n",
      " [ 43  26]]\n"
     ]
    }
   ],
   "source": [
    "# 모델 선언\n",
    "svm_clf = SVC(random_state=0)\n",
    "# 모델 학습\n",
    "svm_clf.fit(X_train, y_train)\n",
    "#예측 생성\n",
    "pred_svm = svm_clf.predict(X_test)\n",
    "# accuracy 및 confusion matrix 확인\n",
    "acc_svm = accuracy_score(y_test, pred_svm)\n",
    "print(f\"accuracy: {acc_svm}\")\n",
    "cm_svm = confusion_matrix(y_test, pred_svm)\n",
    "print(f\"confusion matrix:\\n{cm_svm}\")"
   ]
  }
 ],
 "metadata": {
  "kernelspec": {
   "display_name": "Python 3 (ipykernel)",
   "language": "python",
   "name": "python3"
  },
  "language_info": {
   "codemirror_mode": {
    "name": "ipython",
    "version": 3
   },
   "file_extension": ".py",
   "mimetype": "text/x-python",
   "name": "python",
   "nbconvert_exporter": "python",
   "pygments_lexer": "ipython3",
   "version": "3.12.7"
  }
 },
 "nbformat": 4,
 "nbformat_minor": 5
}
