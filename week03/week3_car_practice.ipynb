{
 "cells": [
  {
   "cell_type": "code",
   "execution_count": 11,
   "id": "582e1b4b-bcbf-4bfc-a1c7-83aa2f917034",
   "metadata": {},
   "outputs": [],
   "source": [
    "import pandas as pd\n",
    "import matplotlib.pyplot as plt\n",
    "from sklearn.preprocessing import LabelEncoder\n",
    "from sklearn.model_selection import train_test_split\n",
    "from sklearn.metrics import confusion_matrix\n",
    "from sklearn.metrics import accuracy_score\n",
    "from sklearn.tree import DecisionTreeClassifier\n",
    "from sklearn.ensemble import RandomForestClassifier\n",
    "from sklearn.linear_model import LogisticRegression\n",
    "from sklearn.neighbors import KNeighborsClassifier\n",
    "from sklearn.svm import SVC\n",
    "from sklearn.preprocessing import StandardScaler"
   ]
  },
  {
   "cell_type": "markdown",
   "id": "e917c249-fa12-4e88-ac83-ef90c06c194d",
   "metadata": {},
   "source": [
    "### 데이터 로드"
   ]
  },
  {
   "cell_type": "code",
   "execution_count": 2,
   "id": "637bb520-5729-4eeb-87c3-2f5f60d521cf",
   "metadata": {},
   "outputs": [],
   "source": [
    "#로컬 데이터 로드\n",
    "file = \"C:/Users/송이두/Desktop/가천대/2-1/인공지능개론/과제/data/car_evaluation.csv\"\n",
    "data = pd.read_csv(file)"
   ]
  },
  {
   "cell_type": "code",
   "execution_count": 3,
   "id": "01846737-ab28-4968-89bd-04b09ebe0ba8",
   "metadata": {},
   "outputs": [
    {
     "data": {
      "text/html": [
       "<div>\n",
       "<style scoped>\n",
       "    .dataframe tbody tr th:only-of-type {\n",
       "        vertical-align: middle;\n",
       "    }\n",
       "\n",
       "    .dataframe tbody tr th {\n",
       "        vertical-align: top;\n",
       "    }\n",
       "\n",
       "    .dataframe thead th {\n",
       "        text-align: right;\n",
       "    }\n",
       "</style>\n",
       "<table border=\"1\" class=\"dataframe\">\n",
       "  <thead>\n",
       "    <tr style=\"text-align: right;\">\n",
       "      <th></th>\n",
       "      <th>vhigh</th>\n",
       "      <th>vhigh.1</th>\n",
       "      <th>2</th>\n",
       "      <th>2.1</th>\n",
       "      <th>small</th>\n",
       "      <th>low</th>\n",
       "      <th>unacc</th>\n",
       "    </tr>\n",
       "  </thead>\n",
       "  <tbody>\n",
       "    <tr>\n",
       "      <th>0</th>\n",
       "      <td>vhigh</td>\n",
       "      <td>vhigh</td>\n",
       "      <td>2</td>\n",
       "      <td>2</td>\n",
       "      <td>small</td>\n",
       "      <td>med</td>\n",
       "      <td>unacc</td>\n",
       "    </tr>\n",
       "    <tr>\n",
       "      <th>1</th>\n",
       "      <td>vhigh</td>\n",
       "      <td>vhigh</td>\n",
       "      <td>2</td>\n",
       "      <td>2</td>\n",
       "      <td>small</td>\n",
       "      <td>high</td>\n",
       "      <td>unacc</td>\n",
       "    </tr>\n",
       "    <tr>\n",
       "      <th>2</th>\n",
       "      <td>vhigh</td>\n",
       "      <td>vhigh</td>\n",
       "      <td>2</td>\n",
       "      <td>2</td>\n",
       "      <td>med</td>\n",
       "      <td>low</td>\n",
       "      <td>unacc</td>\n",
       "    </tr>\n",
       "    <tr>\n",
       "      <th>3</th>\n",
       "      <td>vhigh</td>\n",
       "      <td>vhigh</td>\n",
       "      <td>2</td>\n",
       "      <td>2</td>\n",
       "      <td>med</td>\n",
       "      <td>med</td>\n",
       "      <td>unacc</td>\n",
       "    </tr>\n",
       "    <tr>\n",
       "      <th>4</th>\n",
       "      <td>vhigh</td>\n",
       "      <td>vhigh</td>\n",
       "      <td>2</td>\n",
       "      <td>2</td>\n",
       "      <td>med</td>\n",
       "      <td>high</td>\n",
       "      <td>unacc</td>\n",
       "    </tr>\n",
       "  </tbody>\n",
       "</table>\n",
       "</div>"
      ],
      "text/plain": [
       "   vhigh vhigh.1  2 2.1  small   low  unacc\n",
       "0  vhigh   vhigh  2   2  small   med  unacc\n",
       "1  vhigh   vhigh  2   2  small  high  unacc\n",
       "2  vhigh   vhigh  2   2    med   low  unacc\n",
       "3  vhigh   vhigh  2   2    med   med  unacc\n",
       "4  vhigh   vhigh  2   2    med  high  unacc"
      ]
     },
     "execution_count": 3,
     "metadata": {},
     "output_type": "execute_result"
    }
   ],
   "source": [
    "#파일 확인\n",
    "data.head()"
   ]
  },
  {
   "cell_type": "code",
   "execution_count": 4,
   "id": "539eeb7f-b430-4592-b69c-5616454603f0",
   "metadata": {},
   "outputs": [
    {
     "name": "stdout",
     "output_type": "stream",
     "text": [
      "<class 'pandas.core.frame.DataFrame'>\n",
      "RangeIndex: 1727 entries, 0 to 1726\n",
      "Data columns (total 7 columns):\n",
      " #   Column   Non-Null Count  Dtype \n",
      "---  ------   --------------  ----- \n",
      " 0   vhigh    1727 non-null   object\n",
      " 1   vhigh.1  1727 non-null   object\n",
      " 2   2        1727 non-null   object\n",
      " 3   2.1      1727 non-null   object\n",
      " 4   small    1727 non-null   object\n",
      " 5   low      1727 non-null   object\n",
      " 6   unacc    1727 non-null   object\n",
      "dtypes: object(7)\n",
      "memory usage: 94.6+ KB\n"
     ]
    }
   ],
   "source": [
    "#데이터 정보 확인\n",
    "data.info()"
   ]
  },
  {
   "cell_type": "markdown",
   "id": "41886b5f-06c4-43dd-98e1-d1a3e15e96cd",
   "metadata": {},
   "source": [
    "### 결측치 확인"
   ]
  },
  {
   "cell_type": "code",
   "execution_count": 5,
   "id": "3bfdc8cd-a3e5-407f-bea5-3c61f511396d",
   "metadata": {},
   "outputs": [
    {
     "data": {
      "text/plain": [
       "vhigh      0\n",
       "vhigh.1    0\n",
       "2          0\n",
       "2.1        0\n",
       "small      0\n",
       "low        0\n",
       "unacc      0\n",
       "dtype: int64"
      ]
     },
     "execution_count": 5,
     "metadata": {},
     "output_type": "execute_result"
    }
   ],
   "source": [
    "#isna()통해 결측치 확인 (True or False), sum()을 통해 True의 합 반환\n",
    "data.isna().sum()"
   ]
  },
  {
   "cell_type": "markdown",
   "id": "2a2d74f2-673f-4422-bd5e-8b0d944f94db",
   "metadata": {},
   "source": [
    "### 레이블 확인 <br/>\n",
    "레이블이 불균형을 띄고 있음을 알 수 있다."
   ]
  },
  {
   "cell_type": "code",
   "execution_count": 6,
   "id": "22d02079-8255-4d4d-a3e5-e2b3e0762a60",
   "metadata": {},
   "outputs": [
    {
     "data": {
      "text/plain": [
       "unacc\n",
       "unacc    1209\n",
       "acc       384\n",
       "good       69\n",
       "vgood      65\n",
       "Name: count, dtype: int64"
      ]
     },
     "execution_count": 6,
     "metadata": {},
     "output_type": "execute_result"
    }
   ],
   "source": [
    "#value_counts()를 통해 unacc 열의 고유값 수 확인\n",
    "data[\"unacc\"].value_counts()"
   ]
  },
  {
   "cell_type": "code",
   "execution_count": 7,
   "id": "a43d4fc4-1868-471a-a6c6-6aa07e5a6358",
   "metadata": {},
   "outputs": [
    {
     "data": {
      "image/png": "[encoded data removed]",
      "text/plain": [
       "<Figure size 640x480 with 1 Axes>"
      ]
     },
     "metadata": {},
     "output_type": "display_data"
    }
   ],
   "source": [
    "# plt 차트를 이용해 시각화\n",
    "x = data['unacc'].value_counts().index\n",
    "y = data['unacc'].value_counts().values\n",
    "plt.bar(x, y)\n",
    "plt.xticks(x)\n",
    "plt.xlabel('unacc')\n",
    "plt.ylabel(\"CountS\")\n",
    "plt.show()"
   ]
  },
  {
   "cell_type": "markdown",
   "id": "8aa021c8-2c16-4dcc-82d1-98aab38de11e",
   "metadata": {},
   "source": [
    "### 인코딩 <br/>\n",
    "모든 데이터가 object형이므로 숫자형으로 인코딩해준다."
   ]
  },
  {
   "cell_type": "code",
   "execution_count": 8,
   "id": "7f4c096a-af53-4982-8819-939c7ce1459f",
   "metadata": {},
   "outputs": [],
   "source": [
    "#for문을 통해 각 컬럼 숫자형으로 인코딩\n",
    "label_encoder = LabelEncoder()\n",
    "column_to_encode = ['vhigh', 'vhigh.1', '2', '2.1', 'small', 'low', 'unacc']\n",
    "encoded_data = data.copy()\n",
    "for column in column_to_encode:\n",
    "    encoded_data[column] = label_encoder.fit_transform(encoded_data[column])"
   ]
  },
  {
   "cell_type": "code",
   "execution_count": 9,
   "id": "44e24db4-8d18-4ddb-9f4c-11ab4dfc44de",
   "metadata": {},
   "outputs": [
    {
     "name": "stdout",
     "output_type": "stream",
     "text": [
      "<class 'pandas.core.frame.DataFrame'>\n",
      "RangeIndex: 1727 entries, 0 to 1726\n",
      "Data columns (total 7 columns):\n",
      " #   Column   Non-Null Count  Dtype\n",
      "---  ------   --------------  -----\n",
      " 0   vhigh    1727 non-null   int32\n",
      " 1   vhigh.1  1727 non-null   int32\n",
      " 2   2        1727 non-null   int32\n",
      " 3   2.1      1727 non-null   int32\n",
      " 4   small    1727 non-null   int32\n",
      " 5   low      1727 non-null   int32\n",
      " 6   unacc    1727 non-null   int32\n",
      "dtypes: int32(7)\n",
      "memory usage: 47.4 KB\n"
     ]
    }
   ],
   "source": [
    "#인코딩 후 데이터 정보 확인\n",
    "encoded_data.info()"
   ]
  },
  {
   "cell_type": "markdown",
   "id": "edaacfb0-67f4-4a61-ab4b-fdc9dc2b6766",
   "metadata": {},
   "source": [
    "### 데이터 스케일링"
   ]
  },
  {
   "cell_type": "code",
   "execution_count": 24,
   "id": "fb78b85a-441a-457e-8853-978f4f42c382",
   "metadata": {},
   "outputs": [],
   "source": [
    "# 데이터 스케일링을 위해 X와 y값 분리\n",
    "X = encoded_data.drop(['unacc'], axis=1)\n",
    "y = encoded_data['unacc'].copy()"
   ]
  },
  {
   "cell_type": "code",
   "execution_count": 25,
   "id": "4a12e182-cfc6-427a-98b6-d54b9e60c020",
   "metadata": {},
   "outputs": [],
   "source": [
    "# X값 스케일링\n",
    "scaler = StandardScaler()\n",
    "scaled_X = scaler.fit_transform(X)"
   ]
  },
  {
   "cell_type": "code",
   "execution_count": 26,
   "id": "a3678547-de85-42ea-847b-7271f7f14be1",
   "metadata": {},
   "outputs": [
    {
     "data": {
      "text/plain": [
       "(   vhigh  vhigh.1  2  2.1  small  low\n",
       " 0      3        3  0    0      2    2\n",
       " 1      3        3  0    0      2    0\n",
       " 2      3        3  0    0      1    1\n",
       " 3      3        3  0    0      1    2\n",
       " 4      3        3  0    0      1    0,\n",
       " array([[ 1.34272909e+00,  1.34272909e+00, -1.34272909e+00,\n",
       "         -1.22563179e+00,  1.22563179e+00,  1.22439044e+00],\n",
       "        [ 1.34272909e+00,  1.34272909e+00, -1.34272909e+00,\n",
       "         -1.22563179e+00,  1.22563179e+00, -1.22439044e+00],\n",
       "        [ 1.34272909e+00,  1.34272909e+00, -1.34272909e+00,\n",
       "         -1.22563179e+00,  7.09277656e-04,  0.00000000e+00],\n",
       "        [ 1.34272909e+00,  1.34272909e+00, -1.34272909e+00,\n",
       "         -1.22563179e+00,  7.09277656e-04,  1.22439044e+00],\n",
       "        [ 1.34272909e+00,  1.34272909e+00, -1.34272909e+00,\n",
       "         -1.22563179e+00,  7.09277656e-04, -1.22439044e+00]]))"
      ]
     },
     "execution_count": 26,
     "metadata": {},
     "output_type": "execute_result"
    }
   ],
   "source": [
    "# 스케일링 전 후 비교\n",
    "X[:5], scaled_X[:5]"
   ]
  },
  {
   "cell_type": "markdown",
   "id": "6f47806c-1111-4c37-8260-b8675bd1fe20",
   "metadata": {},
   "source": [
    "### 훈련 세트, 테스트 세트 분리"
   ]
  },
  {
   "cell_type": "code",
   "execution_count": 14,
   "id": "b9899c8a-953d-48b4-b3c6-47ce8c9df068",
   "metadata": {},
   "outputs": [],
   "source": [
    "X = encoded_data.drop(['unacc'], axis=1)\n",
    "y = encoded_data['unacc'].copy()"
   ]
  },
  {
   "cell_type": "code",
   "execution_count": 15,
   "id": "2a0261ea-4d55-428d-9ef4-a62000e46f89",
   "metadata": {},
   "outputs": [],
   "source": [
    "X_train, X_test, y_train, y_test = train_test_split(scaled_X, y, test_size=0.2, random_state=0)"
   ]
  },
  {
   "cell_type": "markdown",
   "id": "37b68b2f-ee2e-4d17-a0e7-5b26bd7261d5",
   "metadata": {},
   "source": [
    "### RF(랜덤 포레스트) 분류"
   ]
  },
  {
   "cell_type": "code",
   "execution_count": 16,
   "id": "94133632-e735-49fa-bbfb-a6e8fe1d0db8",
   "metadata": {},
   "outputs": [
    {
     "name": "stdout",
     "output_type": "stream",
     "text": [
      "accuracy: 0.9739884393063584\n",
      "confusion matrix:\n",
      "[[ 72   1   4   0]\n",
      " [  1  10   0   3]\n",
      " [  0   0 239   0]\n",
      " [  0   0   0  16]]\n"
     ]
    }
   ],
   "source": [
    "# 모델 선언\n",
    "rf_clf = RandomForestClassifier(random_state=0)\n",
    "# 모델 학습\n",
    "rf_clf.fit(X_train, y_train)\n",
    "#예측 생성\n",
    "pred_rf = rf_clf.predict(X_test)\n",
    "# accuracy 및 confusion matrix 확인\n",
    "acc_rf = accuracy_score(y_test, pred_rf)\n",
    "print(f\"accuracy: {acc_rf}\")\n",
    "cm_rf = confusion_matrix(y_test, pred_rf)\n",
    "print(f\"confusion matrix:\\n{cm_rf}\")"
   ]
  },
  {
   "cell_type": "markdown",
   "id": "55ab2aad-0406-41f6-b816-ac41cbe3a557",
   "metadata": {},
   "source": [
    "### LR(로지스틱 회귀) 분류"
   ]
  },
  {
   "cell_type": "code",
   "execution_count": 17,
   "id": "f649da94-4c4b-4256-8990-4fbee14099f3",
   "metadata": {},
   "outputs": [
    {
     "name": "stdout",
     "output_type": "stream",
     "text": [
      "accuracy: 0.6907514450867052\n",
      "confusion matrix:\n",
      "[[ 18   0  55   4]\n",
      " [  2   0  12   0]\n",
      " [ 16   0 221   2]\n",
      " [  4   0  12   0]]\n"
     ]
    }
   ],
   "source": [
    "# 모델 선언\n",
    "lr_clf = LogisticRegression(random_state=0)\n",
    "# 모델의 수렴을 위한 스케일링\n",
    "scaler = StandardScaler()\n",
    "X_train_scaled = scaler.fit_transform(X_train)\n",
    "X_test_scaled = scaler.transform(X_test)\n",
    "# 모델 학습\n",
    "lr_clf.fit(X_train_scaled, y_train)\n",
    "#예측 생성\n",
    "pred_lr = lr_clf.predict(X_test_scaled)\n",
    "# accuracy 및 confusion matrix 확인\n",
    "acc_lr = accuracy_score(y_test, pred_lr)\n",
    "print(f\"accuracy: {acc_lr}\")\n",
    "cm_lr = confusion_matrix(y_test, pred_lr)\n",
    "print(f\"confusion matrix:\\n{cm_lr}\")"
   ]
  },
  {
   "cell_type": "markdown",
   "id": "6291062f-16f8-4189-92ac-265e46cc6be4",
   "metadata": {},
   "source": [
    "### KNN(K 최근접 이웃) 분류"
   ]
  },
  {
   "cell_type": "code",
   "execution_count": 18,
   "id": "6d3cc8ef-7806-4c3b-894a-3445da6aa823",
   "metadata": {},
   "outputs": [
    {
     "name": "stdout",
     "output_type": "stream",
     "text": [
      "accuracy: 0.8728323699421965\n",
      "confusion matrix:\n",
      "[[ 61   0  15   1]\n",
      " [ 11   3   0   0]\n",
      " [ 11   0 228   0]\n",
      " [  6   0   0  10]]\n"
     ]
    }
   ],
   "source": [
    "#모델 선언\n",
    "knn_clf = KNeighborsClassifier(n_neighbors=3)\n",
    "# 모델 학습\n",
    "knn_clf.fit(X_train, y_train)\n",
    "#예측 생성\n",
    "pred_knn = knn_clf.predict(X_test)\n",
    "# accuracy 및 confusion matrix 확인\n",
    "acc_knn = accuracy_score(y_test, pred_knn)\n",
    "print(f\"accuracy: {acc_knn}\")\n",
    "cm_knn = confusion_matrix(y_test, pred_knn)\n",
    "print(f\"confusion matrix:\\n{cm_knn}\")"
   ]
  },
  {
   "cell_type": "markdown",
   "id": "dd69228e-965a-4251-abe5-3491d2cc8820",
   "metadata": {},
   "source": [
    "### SVM(서포트 벡터 머신) 분류"
   ]
  },
  {
   "cell_type": "code",
   "execution_count": 19,
   "id": "5ae225f0-7503-4b5d-b0db-98debfb52884",
   "metadata": {},
   "outputs": [
    {
     "name": "stdout",
     "output_type": "stream",
     "text": [
      "accuracy: 0.8786127167630058\n",
      "confusion matrix:\n",
      "[[ 62   1  14   0]\n",
      " [  9   4   0   1]\n",
      " [ 17   0 222   0]\n",
      " [  0   0   0  16]]\n"
     ]
    }
   ],
   "source": [
    "# 모델 선언\n",
    "svm_clf = SVC(random_state=0)\n",
    "# 모델 학습\n",
    "svm_clf.fit(X_train, y_train)\n",
    "#예측 생성\n",
    "pred_svm = svm_clf.predict(X_test)\n",
    "# accuracy 및 confusion matrix 확인\n",
    "acc_svm = accuracy_score(y_test, pred_svm)\n",
    "print(f\"accuracy: {acc_svm}\")\n",
    "cm_svm = confusion_matrix(y_test, pred_svm)\n",
    "print(f\"confusion matrix:\\n{cm_svm}\")"
   ]
  }
 ],
 "metadata": {
  "kernelspec": {
   "display_name": "Python 3 (ipykernel)",
   "language": "python",
   "name": "python3"
  },
  "language_info": {
   "codemirror_mode": {
    "name": "ipython",
    "version": 3
   },
   "file_extension": ".py",
   "mimetype": "text/x-python",
   "name": "python",
   "nbconvert_exporter": "python",
   "pygments_lexer": "ipython3",
   "version": "3.12.7"
  }
 },
 "nbformat": 4,
 "nbformat_minor": 5
}
