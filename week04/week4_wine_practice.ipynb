{
 "cells": [
  {
   "cell_type": "code",
   "execution_count": 34,
   "id": "68184fe0-dd70-4207-a332-1a784535c68d",
   "metadata": {},
   "outputs": [],
   "source": [
    "import pandas as pd\n",
    "import matplotlib.pyplot as plt\n",
    "from sklearn.preprocessing import LabelEncoder\n",
    "from sklearn.model_selection import train_test_split\n",
    "from sklearn.metrics import confusion_matrix\n",
    "from sklearn.metrics import accuracy_score\n",
    "from sklearn.tree import DecisionTreeClassifier\n",
    "from sklearn.ensemble import RandomForestClassifier\n",
    "from sklearn.linear_model import LogisticRegression\n",
    "from sklearn.neighbors import KNeighborsClassifier\n",
    "from sklearn.svm import SVC\n",
    "from sklearn.preprocessing import StandardScaler\n",
    "import pandas as pd\n",
    "import numpy as np\n",
    "from sklearn.neighbors import KNeighborsClassifier\n",
    "import seaborn as sns\n",
    "import tensorflow as tf\n",
    "from tensorflow import keras"
   ]
  },
  {
   "cell_type": "markdown",
   "id": "03829e84-9062-4699-a77f-1b4132cdeef8",
   "metadata": {},
   "source": [
    "# 데이터 로드"
   ]
  },
  {
   "cell_type": "code",
   "execution_count": 3,
   "id": "27b24f7d-d50a-4b02-981d-150723d9a76e",
   "metadata": {},
   "outputs": [],
   "source": [
    "file = \"C:/Users/송이두/Desktop/가천대/2-1/인공지능개론/과제/data/wine.csv\"\n",
    "wine = pd.read_csv(file)"
   ]
  },
  {
   "cell_type": "code",
   "execution_count": 4,
   "id": "f1a29615-526d-4a10-b930-ffa574fa959f",
   "metadata": {},
   "outputs": [
    {
     "data": {
      "text/html": [
       "<div>\n",
       "<style scoped>\n",
       "    .dataframe tbody tr th:only-of-type {\n",
       "        vertical-align: middle;\n",
       "    }\n",
       "\n",
       "    .dataframe tbody tr th {\n",
       "        vertical-align: top;\n",
       "    }\n",
       "\n",
       "    .dataframe thead th {\n",
       "        text-align: right;\n",
       "    }\n",
       "</style>\n",
       "<table border=\"1\" class=\"dataframe\">\n",
       "  <thead>\n",
       "    <tr style=\"text-align: right;\">\n",
       "      <th></th>\n",
       "      <th>Wine</th>\n",
       "      <th>Alcohol</th>\n",
       "      <th>Malic.acid</th>\n",
       "      <th>Ash</th>\n",
       "      <th>Acl</th>\n",
       "      <th>Mg</th>\n",
       "      <th>Phenols</th>\n",
       "      <th>Flavanoids</th>\n",
       "      <th>Nonflavanoid.phenols</th>\n",
       "      <th>Proanth</th>\n",
       "      <th>Color.int</th>\n",
       "      <th>Hue</th>\n",
       "      <th>OD</th>\n",
       "      <th>Proline</th>\n",
       "    </tr>\n",
       "  </thead>\n",
       "  <tbody>\n",
       "    <tr>\n",
       "      <th>0</th>\n",
       "      <td>1</td>\n",
       "      <td>14.23</td>\n",
       "      <td>1.71</td>\n",
       "      <td>2.43</td>\n",
       "      <td>15.6</td>\n",
       "      <td>127</td>\n",
       "      <td>2.80</td>\n",
       "      <td>3.06</td>\n",
       "      <td>0.28</td>\n",
       "      <td>2.29</td>\n",
       "      <td>5.64</td>\n",
       "      <td>1.04</td>\n",
       "      <td>3.92</td>\n",
       "      <td>1065</td>\n",
       "    </tr>\n",
       "    <tr>\n",
       "      <th>1</th>\n",
       "      <td>1</td>\n",
       "      <td>13.20</td>\n",
       "      <td>1.78</td>\n",
       "      <td>2.14</td>\n",
       "      <td>11.2</td>\n",
       "      <td>100</td>\n",
       "      <td>2.65</td>\n",
       "      <td>2.76</td>\n",
       "      <td>0.26</td>\n",
       "      <td>1.28</td>\n",
       "      <td>4.38</td>\n",
       "      <td>1.05</td>\n",
       "      <td>3.40</td>\n",
       "      <td>1050</td>\n",
       "    </tr>\n",
       "    <tr>\n",
       "      <th>2</th>\n",
       "      <td>1</td>\n",
       "      <td>13.16</td>\n",
       "      <td>2.36</td>\n",
       "      <td>2.67</td>\n",
       "      <td>18.6</td>\n",
       "      <td>101</td>\n",
       "      <td>2.80</td>\n",
       "      <td>3.24</td>\n",
       "      <td>0.30</td>\n",
       "      <td>2.81</td>\n",
       "      <td>5.68</td>\n",
       "      <td>1.03</td>\n",
       "      <td>3.17</td>\n",
       "      <td>1185</td>\n",
       "    </tr>\n",
       "    <tr>\n",
       "      <th>3</th>\n",
       "      <td>1</td>\n",
       "      <td>14.37</td>\n",
       "      <td>1.95</td>\n",
       "      <td>2.50</td>\n",
       "      <td>16.8</td>\n",
       "      <td>113</td>\n",
       "      <td>3.85</td>\n",
       "      <td>3.49</td>\n",
       "      <td>0.24</td>\n",
       "      <td>2.18</td>\n",
       "      <td>7.80</td>\n",
       "      <td>0.86</td>\n",
       "      <td>3.45</td>\n",
       "      <td>1480</td>\n",
       "    </tr>\n",
       "    <tr>\n",
       "      <th>4</th>\n",
       "      <td>1</td>\n",
       "      <td>13.24</td>\n",
       "      <td>2.59</td>\n",
       "      <td>2.87</td>\n",
       "      <td>21.0</td>\n",
       "      <td>118</td>\n",
       "      <td>2.80</td>\n",
       "      <td>2.69</td>\n",
       "      <td>0.39</td>\n",
       "      <td>1.82</td>\n",
       "      <td>4.32</td>\n",
       "      <td>1.04</td>\n",
       "      <td>2.93</td>\n",
       "      <td>735</td>\n",
       "    </tr>\n",
       "  </tbody>\n",
       "</table>\n",
       "</div>"
      ],
      "text/plain": [
       "   Wine  Alcohol  Malic.acid   Ash   Acl   Mg  Phenols  Flavanoids  \\\n",
       "0     1    14.23        1.71  2.43  15.6  127     2.80        3.06   \n",
       "1     1    13.20        1.78  2.14  11.2  100     2.65        2.76   \n",
       "2     1    13.16        2.36  2.67  18.6  101     2.80        3.24   \n",
       "3     1    14.37        1.95  2.50  16.8  113     3.85        3.49   \n",
       "4     1    13.24        2.59  2.87  21.0  118     2.80        2.69   \n",
       "\n",
       "   Nonflavanoid.phenols  Proanth  Color.int   Hue    OD  Proline  \n",
       "0                  0.28     2.29       5.64  1.04  3.92     1065  \n",
       "1                  0.26     1.28       4.38  1.05  3.40     1050  \n",
       "2                  0.30     2.81       5.68  1.03  3.17     1185  \n",
       "3                  0.24     2.18       7.80  0.86  3.45     1480  \n",
       "4                  0.39     1.82       4.32  1.04  2.93      735  "
      ]
     },
     "execution_count": 4,
     "metadata": {},
     "output_type": "execute_result"
    }
   ],
   "source": [
    "wine.head()"
   ]
  },
  {
   "cell_type": "code",
   "execution_count": 5,
   "id": "35337e46-93e8-44e9-ba47-fa65824f9d35",
   "metadata": {},
   "outputs": [
    {
     "name": "stdout",
     "output_type": "stream",
     "text": [
      "<class 'pandas.core.frame.DataFrame'>\n",
      "RangeIndex: 178 entries, 0 to 177\n",
      "Data columns (total 14 columns):\n",
      " #   Column                Non-Null Count  Dtype  \n",
      "---  ------                --------------  -----  \n",
      " 0   Wine                  178 non-null    int64  \n",
      " 1   Alcohol               178 non-null    float64\n",
      " 2   Malic.acid            178 non-null    float64\n",
      " 3   Ash                   178 non-null    float64\n",
      " 4   Acl                   178 non-null    float64\n",
      " 5   Mg                    178 non-null    int64  \n",
      " 6   Phenols               178 non-null    float64\n",
      " 7   Flavanoids            178 non-null    float64\n",
      " 8   Nonflavanoid.phenols  178 non-null    float64\n",
      " 9   Proanth               178 non-null    float64\n",
      " 10  Color.int             178 non-null    float64\n",
      " 11  Hue                   178 non-null    float64\n",
      " 12  OD                    178 non-null    float64\n",
      " 13  Proline               178 non-null    int64  \n",
      "dtypes: float64(11), int64(3)\n",
      "memory usage: 19.6 KB\n"
     ]
    }
   ],
   "source": [
    "wine.info()"
   ]
  },
  {
   "cell_type": "markdown",
   "id": "f9e5c517-28f5-4800-b615-3d03ae36846b",
   "metadata": {},
   "source": [
    "# 결측치 확인"
   ]
  },
  {
   "cell_type": "code",
   "execution_count": 6,
   "id": "5bd78744-8f9c-49db-848a-8d0f473fe62f",
   "metadata": {},
   "outputs": [
    {
     "data": {
      "text/plain": [
       "Wine                    0\n",
       "Alcohol                 0\n",
       "Malic.acid              0\n",
       "Ash                     0\n",
       "Acl                     0\n",
       "Mg                      0\n",
       "Phenols                 0\n",
       "Flavanoids              0\n",
       "Nonflavanoid.phenols    0\n",
       "Proanth                 0\n",
       "Color.int               0\n",
       "Hue                     0\n",
       "OD                      0\n",
       "Proline                 0\n",
       "dtype: int64"
      ]
     },
     "execution_count": 6,
     "metadata": {},
     "output_type": "execute_result"
    }
   ],
   "source": [
    "wine.isna().sum()"
   ]
  },
  {
   "cell_type": "markdown",
   "id": "a67586a4-c45f-40b6-98d3-442f1fb33ee4",
   "metadata": {},
   "source": [
    "# 레이블 불균형 확인"
   ]
  },
  {
   "cell_type": "code",
   "execution_count": 7,
   "id": "5605cac2-11ba-4276-8b7b-e07615e87615",
   "metadata": {},
   "outputs": [
    {
     "data": {
      "text/plain": [
       "Wine\n",
       "2    71\n",
       "1    59\n",
       "3    48\n",
       "Name: count, dtype: int64"
      ]
     },
     "execution_count": 7,
     "metadata": {},
     "output_type": "execute_result"
    }
   ],
   "source": [
    "wine[\"Wine\"].value_counts()"
   ]
  },
  {
   "cell_type": "code",
   "execution_count": 8,
   "id": "c5ace314-2832-4ac9-a43e-bb3785a46658",
   "metadata": {},
   "outputs": [
    {
     "data": {
      "image/png": "[encoded data removed]",
      "text/plain": [
       "<Figure size 640x480 with 1 Axes>"
      ]
     },
     "metadata": {},
     "output_type": "display_data"
    }
   ],
   "source": [
    "x = wine['Wine'].value_counts().index\n",
    "y = wine['Wine'].value_counts().values\n",
    "plt.bar(x, y)\n",
    "plt.xticks(x)\n",
    "plt.xlabel('Wine')\n",
    "plt.ylabel(\"CountS\")\n",
    "plt.show()"
   ]
  },
  {
   "cell_type": "markdown",
   "id": "1ed7b7c3-2aa4-4101-a9d5-d9529c59960d",
   "metadata": {},
   "source": [
    "# 데이터 스케일링"
   ]
  },
  {
   "cell_type": "code",
   "execution_count": 9,
   "id": "e0b4e7f7-f77b-49bf-a8c2-ce4b99c77b4a",
   "metadata": {},
   "outputs": [],
   "source": [
    "X = wine.drop(['Wine'], axis=1)\n",
    "y = wine['Wine'].copy()"
   ]
  },
  {
   "cell_type": "code",
   "execution_count": 10,
   "id": "f064b3d1-c650-451e-ac24-966dca95a8b2",
   "metadata": {},
   "outputs": [],
   "source": [
    "scaler = StandardScaler()\n",
    "scaled_X = scaler.fit_transform(X)"
   ]
  },
  {
   "cell_type": "code",
   "execution_count": 11,
   "id": "e26d1e22-f8a0-4afd-bcce-5e232e3b9a7e",
   "metadata": {},
   "outputs": [
    {
     "data": {
      "text/plain": [
       "(   Alcohol  Malic.acid   Ash   Acl   Mg  Phenols  Flavanoids  \\\n",
       " 0    14.23        1.71  2.43  15.6  127     2.80        3.06   \n",
       " 1    13.20        1.78  2.14  11.2  100     2.65        2.76   \n",
       " 2    13.16        2.36  2.67  18.6  101     2.80        3.24   \n",
       " 3    14.37        1.95  2.50  16.8  113     3.85        3.49   \n",
       " 4    13.24        2.59  2.87  21.0  118     2.80        2.69   \n",
       " \n",
       "    Nonflavanoid.phenols  Proanth  Color.int   Hue    OD  Proline  \n",
       " 0                  0.28     2.29       5.64  1.04  3.92     1065  \n",
       " 1                  0.26     1.28       4.38  1.05  3.40     1050  \n",
       " 2                  0.30     2.81       5.68  1.03  3.17     1185  \n",
       " 3                  0.24     2.18       7.80  0.86  3.45     1480  \n",
       " 4                  0.39     1.82       4.32  1.04  2.93      735  ,\n",
       " array([[ 1.51861254, -0.5622498 ,  0.23205254, -1.16959318,  1.91390522,\n",
       "          0.80899739,  1.03481896, -0.65956311,  1.22488398,  0.25171685,\n",
       "          0.36217728,  1.84791957,  1.01300893],\n",
       "        [ 0.24628963, -0.49941338, -0.82799632, -2.49084714,  0.01814502,\n",
       "          0.56864766,  0.73362894, -0.82071924, -0.54472099, -0.29332133,\n",
       "          0.40605066,  1.1134493 ,  0.96524152],\n",
       "        [ 0.19687903,  0.02123125,  1.10933436, -0.2687382 ,  0.08835836,\n",
       "          0.80899739,  1.21553297, -0.49840699,  2.13596773,  0.26901965,\n",
       "          0.31830389,  0.78858745,  1.39514818],\n",
       "        [ 1.69154964, -0.34681064,  0.4879264 , -0.80925118,  0.93091845,\n",
       "          2.49144552,  1.46652465, -0.98187536,  1.03215473,  1.18606801,\n",
       "         -0.42754369,  1.18407144,  2.33457383],\n",
       "        [ 0.29570023,  0.22769377,  1.84040254,  0.45194578,  1.28198515,\n",
       "          0.80899739,  0.66335127,  0.22679555,  0.40140444, -0.31927553,\n",
       "          0.36217728,  0.44960118, -0.03787401]]))"
      ]
     },
     "execution_count": 11,
     "metadata": {},
     "output_type": "execute_result"
    }
   ],
   "source": [
    "X[:5], scaled_X[:5]"
   ]
  },
  {
   "cell_type": "markdown",
   "id": "fe498d30-69de-41d1-846d-94f8f8da2b1c",
   "metadata": {},
   "source": [
    "# 훈련 세트, 테스트 세트 분리"
   ]
  },
  {
   "cell_type": "code",
   "execution_count": 12,
   "id": "5d170293-823d-4470-a6bf-a38fd9e08e3c",
   "metadata": {},
   "outputs": [],
   "source": [
    "X_train, X_test, y_train, y_test = train_test_split(scaled_X, y, test_size=0.2, random_state=0)"
   ]
  },
  {
   "cell_type": "code",
   "execution_count": 13,
   "id": "6d66b580-eadf-4486-84a0-7dcc60ac1216",
   "metadata": {},
   "outputs": [
    {
     "data": {
      "text/plain": [
       "(142, 13)"
      ]
     },
     "execution_count": 13,
     "metadata": {},
     "output_type": "execute_result"
    }
   ],
   "source": [
    "X_train.shape"
   ]
  },
  {
   "cell_type": "markdown",
   "id": "356660ad-03f3-462c-9073-197fc0b2332c",
   "metadata": {},
   "source": [
    "# RF"
   ]
  },
  {
   "cell_type": "code",
   "execution_count": 14,
   "id": "b8dec3cf-ae94-4ae5-9a58-5ae05eca992a",
   "metadata": {},
   "outputs": [
    {
     "name": "stdout",
     "output_type": "stream",
     "text": [
      "accuracy: 0.9722222222222222\n",
      "confusion matrix:\n",
      "[[14  0  0]\n",
      " [ 0 15  1]\n",
      " [ 0  0  6]]\n"
     ]
    }
   ],
   "source": [
    "# 모델 선언\n",
    "rf_clf = RandomForestClassifier(random_state=0)\n",
    "# 모델 학습\n",
    "rf_clf.fit(X_train, y_train)\n",
    "#예측 생성\n",
    "pred_rf = rf_clf.predict(X_test)\n",
    "# accuracy 및 confusion matrix 확인\n",
    "acc_rf = accuracy_score(y_test, pred_rf)\n",
    "print(f\"accuracy: {acc_rf}\")\n",
    "cm_rf = confusion_matrix(y_test, pred_rf)\n",
    "print(f\"confusion matrix:\\n{cm_rf}\")"
   ]
  },
  {
   "cell_type": "markdown",
   "id": "dd1492bc-f0b5-4aa8-a439-eea1082d3cc7",
   "metadata": {},
   "source": [
    "# LR"
   ]
  },
  {
   "cell_type": "code",
   "execution_count": 15,
   "id": "be86a36c-a2fa-415b-8a4c-2af0d6f8a3eb",
   "metadata": {},
   "outputs": [
    {
     "name": "stdout",
     "output_type": "stream",
     "text": [
      "accuracy: 1.0\n",
      "confusion matrix:\n",
      "[[14  0  0]\n",
      " [ 0 16  0]\n",
      " [ 0  0  6]]\n"
     ]
    }
   ],
   "source": [
    "# 모델 선언\n",
    "lr_clf = LogisticRegression(random_state=0)\n",
    "# 모델 학습\n",
    "lr_clf.fit(X_train, y_train)\n",
    "#예측 생성\n",
    "pred_lr = lr_clf.predict(X_test)\n",
    "# accuracy 및 confusion matrix 확인\n",
    "acc_lr = accuracy_score(y_test, pred_lr)\n",
    "print(f\"accuracy: {acc_lr}\")\n",
    "cm_lr = confusion_matrix(y_test, pred_lr)\n",
    "print(f\"confusion matrix:\\n{cm_lr}\")"
   ]
  },
  {
   "cell_type": "markdown",
   "id": "05603a57-6ddb-4b4f-b319-b84b4a07ad9d",
   "metadata": {},
   "source": [
    "# KNN"
   ]
  },
  {
   "cell_type": "code",
   "execution_count": 16,
   "id": "eac831ba-0e0e-449e-9402-9a986f0abae0",
   "metadata": {},
   "outputs": [
    {
     "name": "stdout",
     "output_type": "stream",
     "text": [
      "accuracy: 0.9444444444444444\n",
      "confusion matrix:\n",
      "[[14  0  0]\n",
      " [ 1 14  1]\n",
      " [ 0  0  6]]\n"
     ]
    }
   ],
   "source": [
    "#모델 선언\n",
    "knn_clf = KNeighborsClassifier(n_neighbors=3)\n",
    "# 모델 학습\n",
    "knn_clf.fit(X_train, y_train)\n",
    "#예측 생성\n",
    "pred_knn = knn_clf.predict(X_test)\n",
    "# accuracy 및 confusion matrix 확인\n",
    "acc_knn = accuracy_score(y_test, pred_knn)\n",
    "print(f\"accuracy: {acc_knn}\")\n",
    "cm_knn = confusion_matrix(y_test, pred_knn)\n",
    "print(f\"confusion matrix:\\n{cm_knn}\")"
   ]
  },
  {
   "cell_type": "markdown",
   "id": "f3dad222-c55d-4b06-8de6-ea20b36d8615",
   "metadata": {},
   "source": [
    "# SVM"
   ]
  },
  {
   "cell_type": "code",
   "execution_count": 17,
   "id": "cfe22c48-1970-43d7-8ff2-879d665303e9",
   "metadata": {},
   "outputs": [
    {
     "name": "stdout",
     "output_type": "stream",
     "text": [
      "accuracy: 1.0\n",
      "confusion matrix:\n",
      "[[14  0  0]\n",
      " [ 0 16  0]\n",
      " [ 0  0  6]]\n"
     ]
    }
   ],
   "source": [
    "# 모델 선언\n",
    "svm_clf = SVC(random_state=0)\n",
    "# 모델 학습\n",
    "svm_clf.fit(X_train, y_train)\n",
    "#예측 생성\n",
    "pred_svm = svm_clf.predict(X_test)\n",
    "# accuracy 및 confusion matrix 확인\n",
    "acc_svm = accuracy_score(y_test, pred_svm)\n",
    "print(f\"accuracy: {acc_svm}\")\n",
    "cm_svm = confusion_matrix(y_test, pred_svm)\n",
    "print(f\"confusion matrix:\\n{cm_svm}\")"
   ]
  },
  {
   "cell_type": "markdown",
   "id": "5f1f7067-fa5a-4616-acfe-a8328544a331",
   "metadata": {},
   "source": [
    "# DL"
   ]
  },
  {
   "cell_type": "code",
   "execution_count": 24,
   "id": "37bd6507-176a-46b9-8fec-31620bc076df",
   "metadata": {},
   "outputs": [],
   "source": [
    "#y값 원-핫 인코딩 변환\n",
    "Y_1hot = pd.get_dummies(y).values"
   ]
  },
  {
   "cell_type": "code",
   "execution_count": 22,
   "id": "ce113d01-b1b1-47dd-a2d2-f896fa23da53",
   "metadata": {},
   "outputs": [
    {
     "name": "stdout",
     "output_type": "stream",
     "text": [
      "0    1\n",
      "1    1\n",
      "2    1\n",
      "3    1\n",
      "4    1\n",
      "Name: Wine, dtype: int64\n",
      "------------------------------\n"
     ]
    },
    {
     "data": {
      "text/plain": [
       "array([[ True, False, False],\n",
       "       [ True, False, False],\n",
       "       [ True, False, False],\n",
       "       [ True, False, False],\n",
       "       [ True, False, False]])"
      ]
     },
     "execution_count": 22,
     "metadata": {},
     "output_type": "execute_result"
    }
   ],
   "source": [
    "print(y[:5])\n",
    "print(\"------------------------------\")\n",
    "Y_1hot[:5]"
   ]
  },
  {
   "cell_type": "code",
   "execution_count": 23,
   "id": "ffbc7850-2789-4ad8-8226-24afc903d0b2",
   "metadata": {},
   "outputs": [],
   "source": [
    "X_train,X_test, y_train,y_test = train_test_split(scaled_X,Y_1hot,test_size=0.2,random_state=0) "
   ]
  },
  {
   "cell_type": "code",
   "execution_count": 25,
   "id": "d3ba5726-198d-4e0e-b1f2-d26564a19800",
   "metadata": {},
   "outputs": [
    {
     "data": {
      "text/plain": [
       "((142, 13), (36, 13), (142, 3), (36, 3))"
      ]
     },
     "execution_count": 25,
     "metadata": {},
     "output_type": "execute_result"
    }
   ],
   "source": [
    "X_train.shape, X_test.shape, y_train.shape, y_test.shape"
   ]
  },
  {
   "cell_type": "code",
   "execution_count": 31,
   "id": "27e617a5-8ef8-4886-9f55-31eb0c9a1a7f",
   "metadata": {},
   "outputs": [
    {
     "name": "stderr",
     "output_type": "stream",
     "text": [
      "C:\\Users\\송이두\\AppData\\Roaming\\Python\\Python312\\site-packages\\keras\\src\\layers\\core\\dense.py:87: UserWarning: Do not pass an `input_shape`/`input_dim` argument to a layer. When using Sequential models, prefer using an `Input(shape)` object as the first layer in the model instead.\n",
      "  super().__init__(activity_regularizer=activity_regularizer, **kwargs)\n"
     ]
    },
    {
     "data": {
      "text/html": [
       "<pre style=\"white-space:pre;overflow-x:auto;line-height:normal;font-family:Menlo,'DejaVu Sans Mono',consolas,'Courier New',monospace\"><span style=\"font-weight: bold\">Model: \"sequential_2\"</span>\n",
       "</pre>\n"
      ],
      "text/plain": [
       "\u001b[1mModel: \"sequential_2\"\u001b[0m\n"
      ]
     },
     "metadata": {},
     "output_type": "display_data"
    },
    {
     "data": {
      "text/html": [
       "<pre style=\"white-space:pre;overflow-x:auto;line-height:normal;font-family:Menlo,'DejaVu Sans Mono',consolas,'Courier New',monospace\">┏━━━━━━━━━━━━━━━━━━━━━━━━━━━━━━━━━━━━━━┳━━━━━━━━━━━━━━━━━━━━━━━━━━━━━┳━━━━━━━━━━━━━━━━━┓\n",
       "┃<span style=\"font-weight: bold\"> Layer (type)                         </span>┃<span style=\"font-weight: bold\"> Output Shape                </span>┃<span style=\"font-weight: bold\">         Param # </span>┃\n",
       "┡━━━━━━━━━━━━━━━━━━━━━━━━━━━━━━━━━━━━━━╇━━━━━━━━━━━━━━━━━━━━━━━━━━━━━╇━━━━━━━━━━━━━━━━━┩\n",
       "│ dense_8 (<span style=\"color: #0087ff; text-decoration-color: #0087ff\">Dense</span>)                      │ (<span style=\"color: #00d7ff; text-decoration-color: #00d7ff\">None</span>, <span style=\"color: #00af00; text-decoration-color: #00af00\">10</span>)                  │             <span style=\"color: #00af00; text-decoration-color: #00af00\">140</span> │\n",
       "├──────────────────────────────────────┼─────────────────────────────┼─────────────────┤\n",
       "│ dense_9 (<span style=\"color: #0087ff; text-decoration-color: #0087ff\">Dense</span>)                      │ (<span style=\"color: #00d7ff; text-decoration-color: #00d7ff\">None</span>, <span style=\"color: #00af00; text-decoration-color: #00af00\">8</span>)                   │              <span style=\"color: #00af00; text-decoration-color: #00af00\">88</span> │\n",
       "├──────────────────────────────────────┼─────────────────────────────┼─────────────────┤\n",
       "│ dense_10 (<span style=\"color: #0087ff; text-decoration-color: #0087ff\">Dense</span>)                     │ (<span style=\"color: #00d7ff; text-decoration-color: #00d7ff\">None</span>, <span style=\"color: #00af00; text-decoration-color: #00af00\">6</span>)                   │              <span style=\"color: #00af00; text-decoration-color: #00af00\">54</span> │\n",
       "├──────────────────────────────────────┼─────────────────────────────┼─────────────────┤\n",
       "│ dense_11 (<span style=\"color: #0087ff; text-decoration-color: #0087ff\">Dense</span>)                     │ (<span style=\"color: #00d7ff; text-decoration-color: #00d7ff\">None</span>, <span style=\"color: #00af00; text-decoration-color: #00af00\">3</span>)                   │              <span style=\"color: #00af00; text-decoration-color: #00af00\">21</span> │\n",
       "└──────────────────────────────────────┴─────────────────────────────┴─────────────────┘\n",
       "</pre>\n"
      ],
      "text/plain": [
       "┏━━━━━━━━━━━━━━━━━━━━━━━━━━━━━━━━━━━━━━┳━━━━━━━━━━━━━━━━━━━━━━━━━━━━━┳━━━━━━━━━━━━━━━━━┓\n",
       "┃\u001b[1m \u001b[0m\u001b[1mLayer (type)                        \u001b[0m\u001b[1m \u001b[0m┃\u001b[1m \u001b[0m\u001b[1mOutput Shape               \u001b[0m\u001b[1m \u001b[0m┃\u001b[1m \u001b[0m\u001b[1m        Param #\u001b[0m\u001b[1m \u001b[0m┃\n",
       "┡━━━━━━━━━━━━━━━━━━━━━━━━━━━━━━━━━━━━━━╇━━━━━━━━━━━━━━━━━━━━━━━━━━━━━╇━━━━━━━━━━━━━━━━━┩\n",
       "│ dense_8 (\u001b[38;5;33mDense\u001b[0m)                      │ (\u001b[38;5;45mNone\u001b[0m, \u001b[38;5;34m10\u001b[0m)                  │             \u001b[38;5;34m140\u001b[0m │\n",
       "├──────────────────────────────────────┼─────────────────────────────┼─────────────────┤\n",
       "│ dense_9 (\u001b[38;5;33mDense\u001b[0m)                      │ (\u001b[38;5;45mNone\u001b[0m, \u001b[38;5;34m8\u001b[0m)                   │              \u001b[38;5;34m88\u001b[0m │\n",
       "├──────────────────────────────────────┼─────────────────────────────┼─────────────────┤\n",
       "│ dense_10 (\u001b[38;5;33mDense\u001b[0m)                     │ (\u001b[38;5;45mNone\u001b[0m, \u001b[38;5;34m6\u001b[0m)                   │              \u001b[38;5;34m54\u001b[0m │\n",
       "├──────────────────────────────────────┼─────────────────────────────┼─────────────────┤\n",
       "│ dense_11 (\u001b[38;5;33mDense\u001b[0m)                     │ (\u001b[38;5;45mNone\u001b[0m, \u001b[38;5;34m3\u001b[0m)                   │              \u001b[38;5;34m21\u001b[0m │\n",
       "└──────────────────────────────────────┴─────────────────────────────┴─────────────────┘\n"
      ]
     },
     "metadata": {},
     "output_type": "display_data"
    },
    {
     "data": {
      "text/html": [
       "<pre style=\"white-space:pre;overflow-x:auto;line-height:normal;font-family:Menlo,'DejaVu Sans Mono',consolas,'Courier New',monospace\"><span style=\"font-weight: bold\"> Total params: </span><span style=\"color: #00af00; text-decoration-color: #00af00\">303</span> (1.18 KB)\n",
       "</pre>\n"
      ],
      "text/plain": [
       "\u001b[1m Total params: \u001b[0m\u001b[38;5;34m303\u001b[0m (1.18 KB)\n"
      ]
     },
     "metadata": {},
     "output_type": "display_data"
    },
    {
     "data": {
      "text/html": [
       "<pre style=\"white-space:pre;overflow-x:auto;line-height:normal;font-family:Menlo,'DejaVu Sans Mono',consolas,'Courier New',monospace\"><span style=\"font-weight: bold\"> Trainable params: </span><span style=\"color: #00af00; text-decoration-color: #00af00\">303</span> (1.18 KB)\n",
       "</pre>\n"
      ],
      "text/plain": [
       "\u001b[1m Trainable params: \u001b[0m\u001b[38;5;34m303\u001b[0m (1.18 KB)\n"
      ]
     },
     "metadata": {},
     "output_type": "display_data"
    },
    {
     "data": {
      "text/html": [
       "<pre style=\"white-space:pre;overflow-x:auto;line-height:normal;font-family:Menlo,'DejaVu Sans Mono',consolas,'Courier New',monospace\"><span style=\"font-weight: bold\"> Non-trainable params: </span><span style=\"color: #00af00; text-decoration-color: #00af00\">0</span> (0.00 B)\n",
       "</pre>\n"
      ],
      "text/plain": [
       "\u001b[1m Non-trainable params: \u001b[0m\u001b[38;5;34m0\u001b[0m (0.00 B)\n"
      ]
     },
     "metadata": {},
     "output_type": "display_data"
    }
   ],
   "source": [
    "from keras.models import Sequential\n",
    "from keras.layers import Dense\n",
    "from keras.optimizers import SGD,Adam\n",
    "\n",
    "\n",
    "model = Sequential()\n",
    "\n",
    "model.add(Dense(10,input_shape=(13,),activation='relu'))\n",
    "model.add(Dense(8,activation='relu'))\n",
    "model.add(Dense(6,activation='relu'))\n",
    "model.add(Dense(3,activation='sigmoid'))\n",
    "\n",
    "model.compile(optimizer='adam',loss='categorical_crossentropy',metrics=['accuracy'])\n",
    "\n",
    "model.summary()"
   ]
  },
  {
   "cell_type": "code",
   "execution_count": 32,
   "id": "c39a068a-0830-4153-b97d-40ad43b5e8a8",
   "metadata": {},
   "outputs": [
    {
     "name": "stdout",
     "output_type": "stream",
     "text": [
      "Epoch 1/30\n",
      "\u001b[1m5/5\u001b[0m \u001b[32m━━━━━━━━━━━━━━━━━━━━\u001b[0m\u001b[37m\u001b[0m \u001b[1m4s\u001b[0m 173ms/step - accuracy: 0.3866 - loss: 1.1525 - val_accuracy: 0.3611 - val_loss: 1.1630\n",
      "Epoch 2/30\n",
      "\u001b[1m5/5\u001b[0m \u001b[32m━━━━━━━━━━━━━━━━━━━━\u001b[0m\u001b[37m\u001b[0m \u001b[1m0s\u001b[0m 38ms/step - accuracy: 0.4353 - loss: 1.1239 - val_accuracy: 0.3611 - val_loss: 1.1342\n",
      "Epoch 3/30\n",
      "\u001b[1m5/5\u001b[0m \u001b[32m━━━━━━━━━━━━━━━━━━━━\u001b[0m\u001b[37m\u001b[0m \u001b[1m0s\u001b[0m 42ms/step - accuracy: 0.4175 - loss: 1.1288 - val_accuracy: 0.3889 - val_loss: 1.1057\n",
      "Epoch 4/30\n",
      "\u001b[1m5/5\u001b[0m \u001b[32m━━━━━━━━━━━━━━━━━━━━\u001b[0m\u001b[37m\u001b[0m \u001b[1m0s\u001b[0m 64ms/step - accuracy: 0.4623 - loss: 1.0667 - val_accuracy: 0.4167 - val_loss: 1.0803\n",
      "Epoch 5/30\n",
      "\u001b[1m5/5\u001b[0m \u001b[32m━━━━━━━━━━━━━━━━━━━━\u001b[0m\u001b[37m\u001b[0m \u001b[1m0s\u001b[0m 58ms/step - accuracy: 0.5134 - loss: 1.0541 - val_accuracy: 0.4444 - val_loss: 1.0580\n",
      "Epoch 6/30\n",
      "\u001b[1m5/5\u001b[0m \u001b[32m━━━━━━━━━━━━━━━━━━━━\u001b[0m\u001b[37m\u001b[0m \u001b[1m0s\u001b[0m 52ms/step - accuracy: 0.5289 - loss: 0.9992 - val_accuracy: 0.4722 - val_loss: 1.0373\n",
      "Epoch 7/30\n",
      "\u001b[1m5/5\u001b[0m \u001b[32m━━━━━━━━━━━━━━━━━━━━\u001b[0m\u001b[37m\u001b[0m \u001b[1m0s\u001b[0m 42ms/step - accuracy: 0.4980 - loss: 1.0163 - val_accuracy: 0.4722 - val_loss: 1.0175\n",
      "Epoch 8/30\n",
      "\u001b[1m5/5\u001b[0m \u001b[32m━━━━━━━━━━━━━━━━━━━━\u001b[0m\u001b[37m\u001b[0m \u001b[1m0s\u001b[0m 50ms/step - accuracy: 0.5388 - loss: 0.9667 - val_accuracy: 0.5000 - val_loss: 0.9979\n",
      "Epoch 9/30\n",
      "\u001b[1m5/5\u001b[0m \u001b[32m━━━━━━━━━━━━━━━━━━━━\u001b[0m\u001b[37m\u001b[0m \u001b[1m0s\u001b[0m 48ms/step - accuracy: 0.5385 - loss: 0.9552 - val_accuracy: 0.5556 - val_loss: 0.9782\n",
      "Epoch 10/30\n",
      "\u001b[1m5/5\u001b[0m \u001b[32m━━━━━━━━━━━━━━━━━━━━\u001b[0m\u001b[37m\u001b[0m \u001b[1m0s\u001b[0m 56ms/step - accuracy: 0.5681 - loss: 0.9176 - val_accuracy: 0.5278 - val_loss: 0.9590\n",
      "Epoch 11/30\n",
      "\u001b[1m5/5\u001b[0m \u001b[32m━━━━━━━━━━━━━━━━━━━━\u001b[0m\u001b[37m\u001b[0m \u001b[1m0s\u001b[0m 45ms/step - accuracy: 0.5943 - loss: 0.8845 - val_accuracy: 0.5278 - val_loss: 0.9397\n",
      "Epoch 12/30\n",
      "\u001b[1m5/5\u001b[0m \u001b[32m━━━━━━━━━━━━━━━━━━━━\u001b[0m\u001b[37m\u001b[0m \u001b[1m0s\u001b[0m 47ms/step - accuracy: 0.5909 - loss: 0.8898 - val_accuracy: 0.5833 - val_loss: 0.9207\n",
      "Epoch 13/30\n",
      "\u001b[1m5/5\u001b[0m \u001b[32m━━━━━━━━━━━━━━━━━━━━\u001b[0m\u001b[37m\u001b[0m \u001b[1m0s\u001b[0m 49ms/step - accuracy: 0.5702 - loss: 0.8801 - val_accuracy: 0.6389 - val_loss: 0.9008\n",
      "Epoch 14/30\n",
      "\u001b[1m5/5\u001b[0m \u001b[32m━━━━━━━━━━━━━━━━━━━━\u001b[0m\u001b[37m\u001b[0m \u001b[1m0s\u001b[0m 41ms/step - accuracy: 0.6426 - loss: 0.8090 - val_accuracy: 0.6111 - val_loss: 0.8807\n",
      "Epoch 15/30\n",
      "\u001b[1m5/5\u001b[0m \u001b[32m━━━━━━━━━━━━━━━━━━━━\u001b[0m\u001b[37m\u001b[0m \u001b[1m0s\u001b[0m 47ms/step - accuracy: 0.6199 - loss: 0.8349 - val_accuracy: 0.6389 - val_loss: 0.8604\n",
      "Epoch 16/30\n",
      "\u001b[1m5/5\u001b[0m \u001b[32m━━━━━━━━━━━━━━━━━━━━\u001b[0m\u001b[37m\u001b[0m \u001b[1m0s\u001b[0m 44ms/step - accuracy: 0.6359 - loss: 0.8371 - val_accuracy: 0.6389 - val_loss: 0.8404\n",
      "Epoch 17/30\n",
      "\u001b[1m5/5\u001b[0m \u001b[32m━━━━━━━━━━━━━━━━━━━━\u001b[0m\u001b[37m\u001b[0m \u001b[1m0s\u001b[0m 46ms/step - accuracy: 0.6899 - loss: 0.7616 - val_accuracy: 0.6389 - val_loss: 0.8211\n",
      "Epoch 18/30\n",
      "\u001b[1m5/5\u001b[0m \u001b[32m━━━━━━━━━━━━━━━━━━━━\u001b[0m\u001b[37m\u001b[0m \u001b[1m0s\u001b[0m 50ms/step - accuracy: 0.6439 - loss: 0.7731 - val_accuracy: 0.6389 - val_loss: 0.8014\n",
      "Epoch 19/30\n",
      "\u001b[1m5/5\u001b[0m \u001b[32m━━━━━━━━━━━━━━━━━━━━\u001b[0m\u001b[37m\u001b[0m \u001b[1m0s\u001b[0m 45ms/step - accuracy: 0.6711 - loss: 0.7381 - val_accuracy: 0.6389 - val_loss: 0.7815\n",
      "Epoch 20/30\n",
      "\u001b[1m5/5\u001b[0m \u001b[32m━━━━━━━━━━━━━━━━━━━━\u001b[0m\u001b[37m\u001b[0m \u001b[1m0s\u001b[0m 48ms/step - accuracy: 0.7141 - loss: 0.7041 - val_accuracy: 0.6667 - val_loss: 0.7617\n",
      "Epoch 21/30\n",
      "\u001b[1m5/5\u001b[0m \u001b[32m━━━━━━━━━━━━━━━━━━━━\u001b[0m\u001b[37m\u001b[0m \u001b[1m0s\u001b[0m 43ms/step - accuracy: 0.7120 - loss: 0.6932 - val_accuracy: 0.6667 - val_loss: 0.7430\n",
      "Epoch 22/30\n",
      "\u001b[1m5/5\u001b[0m \u001b[32m━━━━━━━━━━━━━━━━━━━━\u001b[0m\u001b[37m\u001b[0m \u001b[1m0s\u001b[0m 41ms/step - accuracy: 0.6879 - loss: 0.7041 - val_accuracy: 0.6667 - val_loss: 0.7249\n",
      "Epoch 23/30\n",
      "\u001b[1m5/5\u001b[0m \u001b[32m━━━━━━━━━━━━━━━━━━━━\u001b[0m\u001b[37m\u001b[0m \u001b[1m0s\u001b[0m 39ms/step - accuracy: 0.7092 - loss: 0.6601 - val_accuracy: 0.6667 - val_loss: 0.7071\n",
      "Epoch 24/30\n",
      "\u001b[1m5/5\u001b[0m \u001b[32m━━━━━━━━━━━━━━━━━━━━\u001b[0m\u001b[37m\u001b[0m \u001b[1m0s\u001b[0m 49ms/step - accuracy: 0.6875 - loss: 0.6505 - val_accuracy: 0.6667 - val_loss: 0.6899\n",
      "Epoch 25/30\n",
      "\u001b[1m5/5\u001b[0m \u001b[32m━━━━━━━━━━━━━━━━━━━━\u001b[0m\u001b[37m\u001b[0m \u001b[1m0s\u001b[0m 47ms/step - accuracy: 0.7018 - loss: 0.6161 - val_accuracy: 0.6667 - val_loss: 0.6729\n",
      "Epoch 26/30\n",
      "\u001b[1m5/5\u001b[0m \u001b[32m━━━━━━━━━━━━━━━━━━━━\u001b[0m\u001b[37m\u001b[0m \u001b[1m0s\u001b[0m 40ms/step - accuracy: 0.7540 - loss: 0.5940 - val_accuracy: 0.6667 - val_loss: 0.6563\n",
      "Epoch 27/30\n",
      "\u001b[1m5/5\u001b[0m \u001b[32m━━━━━━━━━━━━━━━━━━━━\u001b[0m\u001b[37m\u001b[0m \u001b[1m0s\u001b[0m 44ms/step - accuracy: 0.7129 - loss: 0.6142 - val_accuracy: 0.6667 - val_loss: 0.6408\n",
      "Epoch 28/30\n",
      "\u001b[1m5/5\u001b[0m \u001b[32m━━━━━━━━━━━━━━━━━━━━\u001b[0m\u001b[37m\u001b[0m \u001b[1m0s\u001b[0m 43ms/step - accuracy: 0.7268 - loss: 0.5630 - val_accuracy: 0.6667 - val_loss: 0.6258\n",
      "Epoch 29/30\n",
      "\u001b[1m5/5\u001b[0m \u001b[32m━━━━━━━━━━━━━━━━━━━━\u001b[0m\u001b[37m\u001b[0m \u001b[1m0s\u001b[0m 47ms/step - accuracy: 0.7184 - loss: 0.6196 - val_accuracy: 0.7222 - val_loss: 0.6114\n",
      "Epoch 30/30\n",
      "\u001b[1m5/5\u001b[0m \u001b[32m━━━━━━━━━━━━━━━━━━━━\u001b[0m\u001b[37m\u001b[0m \u001b[1m0s\u001b[0m 51ms/step - accuracy: 0.7921 - loss: 0.5286 - val_accuracy: 0.7500 - val_loss: 0.5969\n",
      "\u001b[1m2/2\u001b[0m \u001b[32m━━━━━━━━━━━━━━━━━━━━\u001b[0m\u001b[37m\u001b[0m \u001b[1m0s\u001b[0m 142ms/step\n"
     ]
    }
   ],
   "source": [
    "model_history=model.fit(x=X_train, y=y_train, epochs=30, batch_size=32,validation_data= (X_test,y_test))\n",
    "y_pred = model.predict(X_test)\n",
    "\n",
    "y_test_class = np.argmax(y_test,axis=1)\n",
    "y_pred_class = np.argmax(y_pred,axis=1)"
   ]
  },
  {
   "cell_type": "code",
   "execution_count": 33,
   "id": "54624c24-46dc-4e8f-bed6-70391db69701",
   "metadata": {},
   "outputs": [
    {
     "name": "stdout",
     "output_type": "stream",
     "text": [
      "              precision    recall  f1-score   support\n",
      "\n",
      "           0       0.64      1.00      0.78        14\n",
      "           1       1.00      0.44      0.61        16\n",
      "           2       0.86      1.00      0.92         6\n",
      "\n",
      "    accuracy                           0.75        36\n",
      "   macro avg       0.83      0.81      0.77        36\n",
      "weighted avg       0.83      0.75      0.73        36\n",
      "\n",
      "[[14  0  0]\n",
      " [ 8  7  1]\n",
      " [ 0  0  6]]\n"
     ]
    }
   ],
   "source": [
    "from sklearn.metrics import classification_report,confusion_matrix\n",
    "print(classification_report(y_test_class,y_pred_class))\n",
    "print(confusion_matrix(y_test_class,y_pred_class))"
   ]
  },
  {
   "cell_type": "code",
   "execution_count": null,
   "id": "8ca59790-5e44-4bf3-9645-b81231d63174",
   "metadata": {},
   "outputs": [],
   "source": []
  }
 ],
 "metadata": {
  "kernelspec": {
   "display_name": "Python 3 (ipykernel)",
   "language": "python",
   "name": "python3"
  },
  "language_info": {
   "codemirror_mode": {
    "name": "ipython",
    "version": 3
   },
   "file_extension": ".py",
   "mimetype": "text/x-python",
   "name": "python",
   "nbconvert_exporter": "python",
   "pygments_lexer": "ipython3",
   "version": "3.12.7"
  }
 },
 "nbformat": 4,
 "nbformat_minor": 5
}
