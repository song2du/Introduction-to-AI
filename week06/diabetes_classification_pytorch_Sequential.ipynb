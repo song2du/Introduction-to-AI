{
 "cells": [
  {
   "cell_type": "code",
   "execution_count": 2,
   "id": "0ef8dbaa-1bcd-43dc-95ae-6a5051678796",
   "metadata": {},
   "outputs": [],
   "source": [
    "import pandas as pd\n",
    "import numpy as np\n",
    "import torch\n",
    "import torch.nn as nn\n",
    "import torch.optim as optim\n",
    "from torch.utils.data import Dataset, DataLoader, TensorDataset\n",
    "from sklearn.preprocessing import LabelEncoder, StandardScaler\n",
    "from sklearn.model_selection import train_test_split\n",
    "from sklearn.metrics import precision_score, recall_score, f1_score, roc_auc_score, confusion_matrix, ConfusionMatrixDisplay\n",
    "import matplotlib.pyplot as plt\n",
    "from torchsummary import summary\n",
    "import numpy as np\n",
    "from collections import Counter"
   ]
  },
  {
   "cell_type": "markdown",
   "id": "08dc008e-f86e-4abc-8c74-0d927ea664d7",
   "metadata": {},
   "source": [
    "# 데이터 로드 및 탐색"
   ]
  },
  {
   "cell_type": "code",
   "execution_count": 3,
   "id": "c80d0af7-8c6a-4cdf-9e42-7591ffdb91bf",
   "metadata": {},
   "outputs": [],
   "source": [
    "data = pd.read_csv('C:/Users/송이두/Desktop/가천대/2-1/인공지능개론/과제/data/diabetes.csv')"
   ]
  },
  {
   "cell_type": "code",
   "execution_count": 4,
   "id": "e98fa2ff-ef64-4913-85de-1f03658abf30",
   "metadata": {},
   "outputs": [
    {
     "data": {
      "text/html": [
       "<div>\n",
       "<style scoped>\n",
       "    .dataframe tbody tr th:only-of-type {\n",
       "        vertical-align: middle;\n",
       "    }\n",
       "\n",
       "    .dataframe tbody tr th {\n",
       "        vertical-align: top;\n",
       "    }\n",
       "\n",
       "    .dataframe thead th {\n",
       "        text-align: right;\n",
       "    }\n",
       "</style>\n",
       "<table border=\"1\" class=\"dataframe\">\n",
       "  <thead>\n",
       "    <tr style=\"text-align: right;\">\n",
       "      <th></th>\n",
       "      <th>Pregnancies</th>\n",
       "      <th>Glucose</th>\n",
       "      <th>BloodPressure</th>\n",
       "      <th>SkinThickness</th>\n",
       "      <th>Insulin</th>\n",
       "      <th>BMI</th>\n",
       "      <th>DiabetesPedigreeFunction</th>\n",
       "      <th>Age</th>\n",
       "      <th>Outcome</th>\n",
       "    </tr>\n",
       "  </thead>\n",
       "  <tbody>\n",
       "    <tr>\n",
       "      <th>0</th>\n",
       "      <td>6</td>\n",
       "      <td>148</td>\n",
       "      <td>72</td>\n",
       "      <td>35</td>\n",
       "      <td>0</td>\n",
       "      <td>33.6</td>\n",
       "      <td>0.627</td>\n",
       "      <td>50</td>\n",
       "      <td>1</td>\n",
       "    </tr>\n",
       "    <tr>\n",
       "      <th>1</th>\n",
       "      <td>1</td>\n",
       "      <td>85</td>\n",
       "      <td>66</td>\n",
       "      <td>29</td>\n",
       "      <td>0</td>\n",
       "      <td>26.6</td>\n",
       "      <td>0.351</td>\n",
       "      <td>31</td>\n",
       "      <td>0</td>\n",
       "    </tr>\n",
       "    <tr>\n",
       "      <th>2</th>\n",
       "      <td>8</td>\n",
       "      <td>183</td>\n",
       "      <td>64</td>\n",
       "      <td>0</td>\n",
       "      <td>0</td>\n",
       "      <td>23.3</td>\n",
       "      <td>0.672</td>\n",
       "      <td>32</td>\n",
       "      <td>1</td>\n",
       "    </tr>\n",
       "    <tr>\n",
       "      <th>3</th>\n",
       "      <td>1</td>\n",
       "      <td>89</td>\n",
       "      <td>66</td>\n",
       "      <td>23</td>\n",
       "      <td>94</td>\n",
       "      <td>28.1</td>\n",
       "      <td>0.167</td>\n",
       "      <td>21</td>\n",
       "      <td>0</td>\n",
       "    </tr>\n",
       "    <tr>\n",
       "      <th>4</th>\n",
       "      <td>0</td>\n",
       "      <td>137</td>\n",
       "      <td>40</td>\n",
       "      <td>35</td>\n",
       "      <td>168</td>\n",
       "      <td>43.1</td>\n",
       "      <td>2.288</td>\n",
       "      <td>33</td>\n",
       "      <td>1</td>\n",
       "    </tr>\n",
       "  </tbody>\n",
       "</table>\n",
       "</div>"
      ],
      "text/plain": [
       "   Pregnancies  Glucose  BloodPressure  SkinThickness  Insulin   BMI  \\\n",
       "0            6      148             72             35        0  33.6   \n",
       "1            1       85             66             29        0  26.6   \n",
       "2            8      183             64              0        0  23.3   \n",
       "3            1       89             66             23       94  28.1   \n",
       "4            0      137             40             35      168  43.1   \n",
       "\n",
       "   DiabetesPedigreeFunction  Age  Outcome  \n",
       "0                     0.627   50        1  \n",
       "1                     0.351   31        0  \n",
       "2                     0.672   32        1  \n",
       "3                     0.167   21        0  \n",
       "4                     2.288   33        1  "
      ]
     },
     "execution_count": 4,
     "metadata": {},
     "output_type": "execute_result"
    }
   ],
   "source": [
    "data.head()"
   ]
  },
  {
   "cell_type": "code",
   "execution_count": 5,
   "id": "0366456f-5989-465d-9fb2-b4312d688466",
   "metadata": {},
   "outputs": [
    {
     "data": {
      "text/plain": [
       "Index(['Pregnancies', 'Glucose', 'BloodPressure', 'SkinThickness', 'Insulin',\n",
       "       'BMI', 'DiabetesPedigreeFunction', 'Age', 'Outcome'],\n",
       "      dtype='object')"
      ]
     },
     "execution_count": 5,
     "metadata": {},
     "output_type": "execute_result"
    }
   ],
   "source": [
    "data.columns"
   ]
  },
  {
   "cell_type": "code",
   "execution_count": 6,
   "id": "73c59355-8284-411f-95e9-b0f455839144",
   "metadata": {},
   "outputs": [
    {
     "name": "stdout",
     "output_type": "stream",
     "text": [
      "<class 'pandas.core.frame.DataFrame'>\n",
      "RangeIndex: 768 entries, 0 to 767\n",
      "Data columns (total 9 columns):\n",
      " #   Column                    Non-Null Count  Dtype  \n",
      "---  ------                    --------------  -----  \n",
      " 0   Pregnancies               768 non-null    int64  \n",
      " 1   Glucose                   768 non-null    int64  \n",
      " 2   BloodPressure             768 non-null    int64  \n",
      " 3   SkinThickness             768 non-null    int64  \n",
      " 4   Insulin                   768 non-null    int64  \n",
      " 5   BMI                       768 non-null    float64\n",
      " 6   DiabetesPedigreeFunction  768 non-null    float64\n",
      " 7   Age                       768 non-null    int64  \n",
      " 8   Outcome                   768 non-null    int64  \n",
      "dtypes: float64(2), int64(7)\n",
      "memory usage: 54.1 KB\n"
     ]
    }
   ],
   "source": [
    "data.info()"
   ]
  },
  {
   "cell_type": "code",
   "execution_count": 7,
   "id": "dfc3b72f-7d4c-45ed-98b7-f8ebbe5d978a",
   "metadata": {},
   "outputs": [
    {
     "data": {
      "text/plain": [
       "Outcome\n",
       "0    500\n",
       "1    268\n",
       "Name: count, dtype: int64"
      ]
     },
     "execution_count": 7,
     "metadata": {},
     "output_type": "execute_result"
    }
   ],
   "source": [
    "# 심각한 레이블 불균형을 띄고 있음.\n",
    "data.Outcome.value_counts()"
   ]
  },
  {
   "cell_type": "markdown",
   "id": "ef0a1e2c-5cad-4daf-935b-4af5501428a9",
   "metadata": {},
   "source": [
    "# 데이터 스케일링"
   ]
  },
  {
   "cell_type": "code",
   "execution_count": 8,
   "id": "6be5e570-7e03-4e22-8140-6edbdd1341a1",
   "metadata": {},
   "outputs": [
    {
     "data": {
      "text/plain": [
       "((768, 8), (768,))"
      ]
     },
     "execution_count": 8,
     "metadata": {},
     "output_type": "execute_result"
    }
   ],
   "source": [
    "X = data.drop('Outcome', axis=1).values\n",
    "y = data['Outcome'].values\n",
    "\n",
    "X.shape, y.shape"
   ]
  },
  {
   "cell_type": "code",
   "execution_count": 9,
   "id": "636232e5-dd86-4fe2-a5b0-d13032f640e1",
   "metadata": {},
   "outputs": [
    {
     "data": {
      "text/plain": [
       "(array([[  6.   , 148.   ,  72.   ,  35.   ,   0.   ,  33.6  ,   0.627,\n",
       "          50.   ]]),\n",
       " array([[ 0.63994726,  0.84832379,  0.14964075,  0.90726993, -0.69289057,\n",
       "          0.20401277,  0.46849198,  1.4259954 ]]))"
      ]
     },
     "execution_count": 9,
     "metadata": {},
     "output_type": "execute_result"
    }
   ],
   "source": [
    "scaler = StandardScaler()\n",
    "X_scaled = scaler.fit_transform(X)\n",
    "\n",
    "X[:1], X_scaled[:1]"
   ]
  },
  {
   "cell_type": "markdown",
   "id": "3f73c1f8-359b-475a-8dff-dc78a0ccf000",
   "metadata": {},
   "source": [
    "# train, test 분리"
   ]
  },
  {
   "cell_type": "code",
   "execution_count": 10,
   "id": "8e57d3d1-e202-4bd4-9189-3bf337e0b17b",
   "metadata": {},
   "outputs": [
    {
     "data": {
      "text/plain": [
       "((614, 8), (154, 8), (614,), (154,))"
      ]
     },
     "execution_count": 10,
     "metadata": {},
     "output_type": "execute_result"
    }
   ],
   "source": [
    "X_train, X_test, y_train, y_test = train_test_split(X_scaled, y, test_size=0.2, random_state=0, stratify=y)\n",
    "\n",
    "X_train.shape, X_test.shape, y_train.shape, y_test.shape"
   ]
  },
  {
   "cell_type": "code",
   "execution_count": 11,
   "id": "ea38cb11-37de-43b5-a4e5-1f478a6c6209",
   "metadata": {},
   "outputs": [],
   "source": [
    "#pytorch 텐서로 변환\n",
    "X_train = torch.tensor(X_train, dtype=torch.float32)\n",
    "y_train = torch.tensor(y_train, dtype=torch.int64)\n",
    "X_test = torch.tensor(X_test, dtype=torch.float32)\n",
    "y_test = torch.tensor(y_test, dtype=torch.int64)"
   ]
  },
  {
   "cell_type": "code",
   "execution_count": 12,
   "id": "8ec5fb0c-0154-4be1-82d3-140841f11f31",
   "metadata": {},
   "outputs": [],
   "source": [
    "#텐서 데이터셋 설정 및 데이터 로더 설정\n",
    "train_dataset = TensorDataset(X_train, y_train)\n",
    "train_dataloader = DataLoader(train_dataset, batch_size=32, shuffle=True)\n",
    "\n",
    "test_dataset = TensorDataset(X_test, y_test)\n",
    "test_dataloader = DataLoader(test_dataset, batch_size=32, shuffle=False)"
   ]
  },
  {
   "cell_type": "code",
   "execution_count": 13,
   "id": "5803abab-dbee-41be-aa6e-93a77a9163d0",
   "metadata": {},
   "outputs": [
    {
     "data": {
      "text/plain": [
       "(torch.Size([614, 8]),\n",
       " torch.Size([154, 8]),\n",
       " torch.Size([614]),\n",
       " torch.Size([154]))"
      ]
     },
     "execution_count": 13,
     "metadata": {},
     "output_type": "execute_result"
    }
   ],
   "source": [
    "X_train.shape, X_test.shape, y_train.shape, y_test.shape"
   ]
  },
  {
   "cell_type": "markdown",
   "id": "fa330622-1968-44c3-a40e-e6f645358e4b",
   "metadata": {},
   "source": [
    "# 모델 정의"
   ]
  },
  {
   "cell_type": "code",
   "execution_count": 19,
   "id": "3a20ea3f-4631-43cb-be3e-7da026691b45",
   "metadata": {},
   "outputs": [],
   "source": [
    "class DiabetesClf(nn.Module):\n",
    "    def __init__(self):\n",
    "        super(DiabetesClf, self).__init__()\n",
    "        self.model = nn.Sequential(\n",
    "            nn.Linear(8, 32),\n",
    "            nn.ReLU(),\n",
    "            nn.Linear(32, 64),\n",
    "            nn.ReLU(),\n",
    "            nn.Linear(64, 32),\n",
    "            nn.ReLU(),\n",
    "            nn.Linear(32, 1)\n",
    "        )\n",
    "\n",
    "    def forward(self, x):\n",
    "        return self.model(x)\n",
    "\n",
    "device = torch.device(\"cuda\" if torch.cuda.is_available() else \"cpu\")\n",
    "model = DiabetesClf().to(device)"
   ]
  },
  {
   "cell_type": "markdown",
   "id": "3560f8a5-ec8c-4448-844e-6af016e6cdb5",
   "metadata": {},
   "source": [
    "# 손실 함수 및 최적화 기법 정의"
   ]
  },
  {
   "cell_type": "code",
   "execution_count": 20,
   "id": "69394b84-148a-4204-a75b-c77da53bc1f8",
   "metadata": {},
   "outputs": [],
   "source": [
    "#레이블 불균형을 해결하기 위한 가중치 적용\n",
    "class_counts = Counter(label.item() for label in y_train.flatten())\n",
    "pos_weight = torch.tensor([class_counts[0] / class_counts[1]], dtype=torch.float32)\n",
    "\n",
    "criterion = nn.BCEWithLogitsLoss(pos_weight=pos_weight)\n",
    "optimizer = optim.Adam(model.parameters())"
   ]
  },
  {
   "cell_type": "markdown",
   "id": "0e391a5d-4f8d-447e-bfbf-d03d27bc586c",
   "metadata": {},
   "source": [
    "# 모델 학습"
   ]
  },
  {
   "cell_type": "code",
   "execution_count": 21,
   "id": "ca5777cc-2063-4ecf-9ea6-17ac6896f445",
   "metadata": {},
   "outputs": [
    {
     "name": "stdout",
     "output_type": "stream",
     "text": [
      "Epoch 1/30, Loss: 0.8893, Accuracy: 64.94%\n",
      "Epoch 2/30, Loss: 0.8450, Accuracy: 65.58%\n",
      "Epoch 3/30, Loss: 0.7589, Accuracy: 75.97%\n",
      "Epoch 4/30, Loss: 0.6695, Accuracy: 77.92%\n",
      "Epoch 5/30, Loss: 0.6471, Accuracy: 79.87%\n",
      "Epoch 6/30, Loss: 0.6621, Accuracy: 80.52%\n",
      "Epoch 7/30, Loss: 0.6460, Accuracy: 79.22%\n",
      "Epoch 8/30, Loss: 0.6387, Accuracy: 80.52%\n",
      "Epoch 9/30, Loss: 0.6416, Accuracy: 80.52%\n",
      "Epoch 10/30, Loss: 0.6245, Accuracy: 79.22%\n",
      "Epoch 11/30, Loss: 0.6360, Accuracy: 81.17%\n",
      "Epoch 12/30, Loss: 0.6207, Accuracy: 81.17%\n",
      "Epoch 13/30, Loss: 0.6314, Accuracy: 81.17%\n",
      "Epoch 14/30, Loss: 0.6110, Accuracy: 81.17%\n",
      "Epoch 15/30, Loss: 0.6151, Accuracy: 81.82%\n",
      "Epoch 16/30, Loss: 0.5865, Accuracy: 81.82%\n",
      "Epoch 17/30, Loss: 0.5915, Accuracy: 81.82%\n",
      "Epoch 18/30, Loss: 0.6371, Accuracy: 81.82%\n",
      "Epoch 19/30, Loss: 0.5858, Accuracy: 81.82%\n",
      "Epoch 20/30, Loss: 0.5766, Accuracy: 81.17%\n",
      "Epoch 21/30, Loss: 0.5791, Accuracy: 81.82%\n",
      "Epoch 22/30, Loss: 0.5745, Accuracy: 81.82%\n",
      "Epoch 23/30, Loss: 0.5815, Accuracy: 81.82%\n",
      "Epoch 24/30, Loss: 0.5971, Accuracy: 81.82%\n",
      "Epoch 25/30, Loss: 0.5661, Accuracy: 83.12%\n",
      "Epoch 26/30, Loss: 0.5568, Accuracy: 81.82%\n",
      "Epoch 27/30, Loss: 0.5651, Accuracy: 83.12%\n",
      "Epoch 28/30, Loss: 0.5462, Accuracy: 81.82%\n",
      "Epoch 29/30, Loss: 0.5664, Accuracy: 83.12%\n",
      "Epoch 30/30, Loss: 0.5519, Accuracy: 82.47%\n",
      "Training complete.\n"
     ]
    }
   ],
   "source": [
    "# Variables to store loss and accuracy\n",
    "train_losses = []\n",
    "test_accuracies = []\n",
    "\n",
    "# Training loop\n",
    "num_epochs = 30\n",
    "for epoch in range(num_epochs):\n",
    "    model.train()\n",
    "    running_loss = 0.0\n",
    "    for inputs, labels in train_dataloader:\n",
    "        # Zero the parameter gradients\n",
    "        optimizer.zero_grad()\n",
    "\n",
    "        # Forward pass\n",
    "        outputs = model(inputs)\n",
    "        labels = labels.float().unsqueeze(1)\n",
    "        loss = criterion(outputs, labels)\n",
    "\n",
    "        # Backward pass and optimize\n",
    "        loss.backward()\n",
    "        optimizer.step()\n",
    "\n",
    "        running_loss += loss.item()\n",
    "\n",
    "    # Calculate average loss over an epoch\n",
    "    train_losses.append(running_loss / len(train_dataloader))\n",
    "\n",
    "    # Evaluate on test data\n",
    "    model.eval()\n",
    "    correct = 0\n",
    "    total = 0\n",
    "    threshold = 0.5  # 예측 임계값 설정\n",
    "    with torch.no_grad():\n",
    "        for inputs, labels in test_dataloader:\n",
    "            outputs = model(inputs)\n",
    "            predicted = (outputs >= threshold).float()  # 임계값 이상이면 1, 미만이면 0으로 예측\n",
    "            total += labels.size(0)\n",
    "            correct += (predicted == labels.float().unsqueeze(1)).sum().item() # 예측값과 실제 레이블 비교 (차원 맞추기)\n",
    "\n",
    "    accuracy = 100 * correct / total\n",
    "    test_accuracies.append(accuracy)\n",
    "\n",
    "    print(f\"Epoch {epoch + 1}/{num_epochs}, Loss: {train_losses[-1]:.4f}, Accuracy: {accuracy:.2f}%\")\n",
    "print(\"Training complete.\")"
   ]
  },
  {
   "cell_type": "markdown",
   "id": "3291aed9-a2e3-44b4-a75b-4474a4127b51",
   "metadata": {},
   "source": [
    "# 모델 평가"
   ]
  },
  {
   "cell_type": "code",
   "execution_count": 22,
   "id": "f8ce5b59-8158-4ae2-a0ab-5bb167c3517b",
   "metadata": {},
   "outputs": [
    {
     "name": "stdout",
     "output_type": "stream",
     "text": [
      "Confusion Matrix:\n",
      "[[79 21]\n",
      " [10 44]]\n",
      "F1 Score: 0.74\n",
      "Precision: 0.68\n",
      "Recall: 0.81\n"
     ]
    }
   ],
   "source": [
    "model.eval()\n",
    "all_labels = []\n",
    "all_predictions = []\n",
    "with torch.no_grad():\n",
    "    for inputs, labels in test_dataloader:\n",
    "        outputs = model(inputs)\n",
    "        # 이진 분류 출력을 확률로 변환\n",
    "        probabilities = torch.sigmoid(outputs).squeeze(1)  # (batch_size, 1) -> (batch_size)\n",
    "        # 임계값을 기준으로 예측 클래스 결정\n",
    "        predicted = (probabilities >= 0.5).int()\n",
    "        all_labels.extend(labels.cpu().numpy())\n",
    "        all_predictions.extend(predicted.cpu().numpy())\n",
    "\n",
    "# Convert to numpy arrays\n",
    "all_labels = np.array(all_labels)\n",
    "all_predictions = np.array(all_predictions)\n",
    "\n",
    "# Calculate metrics\n",
    "conf_matrix = confusion_matrix(all_labels, all_predictions)\n",
    "f1 = f1_score(all_labels, all_predictions, average='binary')  # 또는 'binary'\n",
    "precision = precision_score(all_labels, all_predictions, average='binary')  # 또는 'binary'\n",
    "recall = recall_score(all_labels, all_predictions, average='binary')  # 또는 'binary'\n",
    "\n",
    "print(f'Confusion Matrix:\\n{conf_matrix}')\n",
    "print(f'F1 Score: {f1:.2f}')\n",
    "print(f'Precision: {precision:.2f}')\n",
    "print(f'Recall: {recall:.2f}')"
   ]
  },
  {
   "cell_type": "code",
   "execution_count": 23,
   "id": "a3ab5d66-8fe2-491b-9a63-3f7776d4d4a0",
   "metadata": {},
   "outputs": [
    {
     "data": {
      "image/png": "[encoded data removed]",
      "text/plain": [
       "<Figure size 1200x500 with 2 Axes>"
      ]
     },
     "metadata": {},
     "output_type": "display_data"
    }
   ],
   "source": [
    "# Plot the loss and accuracy\n",
    "plt.figure(figsize=(12, 5))\n",
    "\n",
    "# Plot loss\n",
    "plt.subplot(1, 2, 1)\n",
    "plt.plot(train_losses, label='Training Loss')\n",
    "plt.xlabel('Epoch')\n",
    "plt.ylabel('Loss')\n",
    "plt.title('Training Loss Over Epochs')\n",
    "plt.legend()\n",
    "\n",
    "# Plot accuracy\n",
    "plt.subplot(1, 2, 2)\n",
    "plt.plot(test_accuracies, label='Test Accuracy')\n",
    "plt.xlabel('Epoch')\n",
    "plt.ylabel('Accuracy (%)')\n",
    "plt.title('Test Accuracy Over Epochs')\n",
    "plt.legend()\n",
    "\n",
    "plt.show()"
   ]
  }
 ],
 "metadata": {
  "kernelspec": {
   "display_name": "Python 3 (ipykernel)",
   "language": "python",
   "name": "python3"
  },
  "language_info": {
   "codemirror_mode": {
    "name": "ipython",
    "version": 3
   },
   "file_extension": ".py",
   "mimetype": "text/x-python",
   "name": "python",
   "nbconvert_exporter": "python",
   "pygments_lexer": "ipython3",
   "version": "3.12.7"
  }
 },
 "nbformat": 4,
 "nbformat_minor": 5
}
