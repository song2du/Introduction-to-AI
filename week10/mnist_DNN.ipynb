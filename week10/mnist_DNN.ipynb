{
 "cells": [
  {
   "cell_type": "code",
   "execution_count": 1,
   "id": "0a16fcf9-45c8-4972-95fb-98d5deb0c995",
   "metadata": {},
   "outputs": [],
   "source": [
    "import matplotlib.pyplot as plt\n",
    "import pandas as pd\n",
    "import numpy as np\n",
    "from sklearn import datasets, metrics\n",
    "from sklearn.model_selection import train_test_split\n",
    "from sklearn.metrics import confusion_matrix\n",
    "from sklearn.metrics import accuracy_score\n",
    "import torch\n",
    "import torch.nn as nn\n",
    "import torch.optim as optim\n",
    "from torch.utils.data import Dataset, DataLoader, TensorDataset\n",
    "from torchsummary import summary\n",
    "from sklearn.metrics import classification_report\n",
    "from sklearn.metrics import precision_score, recall_score, f1_score, roc_auc_score, confusion_matrix, ConfusionMatrixDisplay"
   ]
  },
  {
   "cell_type": "code",
   "execution_count": 2,
   "id": "261b49fa-4b7b-4521-9da1-77b7803aa0e3",
   "metadata": {},
   "outputs": [
    {
     "data": {
      "text/plain": [
       "<matplotlib.image.AxesImage at 0x1b3c6eb3680>"
      ]
     },
     "execution_count": 2,
     "metadata": {},
     "output_type": "execute_result"
    },
    {
     "data": {
      "image/png": "[encoded data removed]",
      "text/plain": [
       "<Figure size 640x480 with 1 Axes>"
      ]
     },
     "metadata": {},
     "output_type": "display_data"
    }
   ],
   "source": [
    "#데이터 확인\n",
    "digits = datasets.load_digits()\n",
    "plt.imshow(digits.images[0], cmap=plt.cm.gray_r, interpolation='nearest')"
   ]
  },
  {
   "cell_type": "code",
   "execution_count": 3,
   "id": "eb633df0-bab7-43cf-afe0-db4d7897ddc7",
   "metadata": {},
   "outputs": [
    {
     "data": {
      "text/plain": [
       "(1797, 64)"
      ]
     },
     "execution_count": 3,
     "metadata": {},
     "output_type": "execute_result"
    }
   ],
   "source": [
    "#데이터 평탄화\n",
    "n_samples = len(digits.images)\n",
    "data = digits.images.reshape((n_samples, -1))\n",
    "data.shape"
   ]
  },
  {
   "cell_type": "code",
   "execution_count": 4,
   "id": "276902ec-2ff9-411b-82cb-1de6be5dd782",
   "metadata": {},
   "outputs": [],
   "source": [
    "#훈련, 테스트 데이터 분리\n",
    "X_train, X_test, y_train, y_test = train_test_split(data, digits.target, test_size=0.2)"
   ]
  },
  {
   "cell_type": "code",
   "execution_count": 14,
   "id": "824f1a53-04e6-4319-9c95-58cd4a9d25cf",
   "metadata": {},
   "outputs": [
    {
     "name": "stderr",
     "output_type": "stream",
     "text": [
      "C:\\Users\\송이두\\AppData\\Local\\Temp\\ipykernel_27972\\3742484122.py:2: UserWarning: To copy construct from a tensor, it is recommended to use sourceTensor.clone().detach() or sourceTensor.clone().detach().requires_grad_(True), rather than torch.tensor(sourceTensor).\n",
      "  X_train = torch.tensor(X_train, dtype=torch.float32)\n",
      "C:\\Users\\송이두\\AppData\\Local\\Temp\\ipykernel_27972\\3742484122.py:3: UserWarning: To copy construct from a tensor, it is recommended to use sourceTensor.clone().detach() or sourceTensor.clone().detach().requires_grad_(True), rather than torch.tensor(sourceTensor).\n",
      "  y_train = torch.tensor(y_train, dtype=torch.long)\n",
      "C:\\Users\\송이두\\AppData\\Local\\Temp\\ipykernel_27972\\3742484122.py:4: UserWarning: To copy construct from a tensor, it is recommended to use sourceTensor.clone().detach() or sourceTensor.clone().detach().requires_grad_(True), rather than torch.tensor(sourceTensor).\n",
      "  X_test = torch.tensor(X_test, dtype=torch.float32)\n",
      "C:\\Users\\송이두\\AppData\\Local\\Temp\\ipykernel_27972\\3742484122.py:5: UserWarning: To copy construct from a tensor, it is recommended to use sourceTensor.clone().detach() or sourceTensor.clone().detach().requires_grad_(True), rather than torch.tensor(sourceTensor).\n",
      "  y_test = torch.tensor(y_test, dtype=torch.long)\n"
     ]
    }
   ],
   "source": [
    "#pytorch 텐서로 변환\n",
    "X_train = torch.tensor(X_train, dtype=torch.float32)\n",
    "y_train = torch.tensor(y_train, dtype=torch.long)\n",
    "X_test = torch.tensor(X_test, dtype=torch.float32)\n",
    "y_test = torch.tensor(y_test, dtype=torch.long)"
   ]
  },
  {
   "cell_type": "code",
   "execution_count": 6,
   "id": "1b1396af-c743-4c17-ac39-c7ce6b88a30a",
   "metadata": {},
   "outputs": [],
   "source": [
    "#텐서 데이터셋 설정 및 데이터 로더 설정\n",
    "train_dataset = TensorDataset(X_train, y_train)\n",
    "train_dataloader = DataLoader(train_dataset, batch_size=32, shuffle=True)\n",
    "\n",
    "test_dataset = TensorDataset(X_test, y_test)\n",
    "test_dataloader = DataLoader(test_dataset, batch_size=32, shuffle=False)"
   ]
  },
  {
   "cell_type": "code",
   "execution_count": 7,
   "id": "5c19ac3c-d7d6-464f-8836-d85bd9e5232d",
   "metadata": {},
   "outputs": [
    {
     "data": {
      "text/plain": [
       "(torch.Size([1437, 64]),\n",
       " torch.Size([360, 64]),\n",
       " torch.Size([1437]),\n",
       " torch.Size([360]))"
      ]
     },
     "execution_count": 7,
     "metadata": {},
     "output_type": "execute_result"
    }
   ],
   "source": [
    "X_train.shape, X_test.shape, y_train.shape, y_test.shape"
   ]
  },
  {
   "cell_type": "markdown",
   "id": "53bebb4c-bcf5-45d9-b04f-59f4ca1d90ab",
   "metadata": {},
   "source": [
    "## 모델 정의"
   ]
  },
  {
   "cell_type": "code",
   "execution_count": 8,
   "id": "4ac9aadb-47cd-4f60-85b6-cd16362b765b",
   "metadata": {},
   "outputs": [],
   "source": [
    "class MnistClf(nn.Module):\n",
    "    def __init__(self):\n",
    "        super(MnistClf, self).__init__()\n",
    "        self.fc1 = nn.Linear(64, 128)\n",
    "        self.fc2 = nn.Linear(128, 128)\n",
    "        self.fc3 = nn.Linear(128, 64)\n",
    "        self.fc4 = nn.Linear(64, 10)  \n",
    "\n",
    "    def forward(self, x):\n",
    "        x = torch.relu(self.fc1(x))\n",
    "        x = torch.relu(self.fc2(x))\n",
    "        x = torch.relu(self.fc3(x))\n",
    "        x = self.fc4(x)\n",
    "        return x\n",
    "\n",
    "# Initialize the model, loss function, and optimizer\n",
    "model = MnistClf()"
   ]
  },
  {
   "cell_type": "code",
   "execution_count": 17,
   "id": "e74e1966-bc57-4b59-ae11-386125657dad",
   "metadata": {},
   "outputs": [
    {
     "name": "stdout",
     "output_type": "stream",
     "text": [
      "----------------------------------------------------------------\n",
      "        Layer (type)               Output Shape         Param #\n",
      "================================================================\n",
      "            Linear-1                  [-1, 128]           8,320\n",
      "            Linear-2                  [-1, 128]          16,512\n",
      "            Linear-3                   [-1, 64]           8,256\n",
      "            Linear-4                   [-1, 10]             650\n",
      "================================================================\n",
      "Total params: 33,738\n",
      "Trainable params: 33,738\n",
      "Non-trainable params: 0\n",
      "----------------------------------------------------------------\n",
      "Input size (MB): 0.00\n",
      "Forward/backward pass size (MB): 0.00\n",
      "Params size (MB): 0.13\n",
      "Estimated Total Size (MB): 0.13\n",
      "----------------------------------------------------------------\n"
     ]
    }
   ],
   "source": [
    "summary(model, input_size=(64,))"
   ]
  },
  {
   "cell_type": "code",
   "execution_count": 9,
   "id": "24f32710-0142-435b-a1dc-8ab483bab5b2",
   "metadata": {},
   "outputs": [],
   "source": [
    "criterion = nn.CrossEntropyLoss()\n",
    "optimizer = optim.Adam(model.parameters())"
   ]
  },
  {
   "cell_type": "markdown",
   "id": "dfa35041-9fe4-43f7-a0c0-561b90a17450",
   "metadata": {},
   "source": [
    "## 모델 학습"
   ]
  },
  {
   "cell_type": "code",
   "execution_count": 15,
   "id": "3462a11d-0139-4278-a1a6-ef2a7ef57ec6",
   "metadata": {},
   "outputs": [
    {
     "name": "stdout",
     "output_type": "stream",
     "text": [
      "Epoch 1/30, Loss: 0.0005, Accuracy: 96.67%\n",
      "Epoch 2/30, Loss: 0.0004, Accuracy: 96.94%\n",
      "Epoch 3/30, Loss: 0.0004, Accuracy: 96.94%\n",
      "Epoch 4/30, Loss: 0.0004, Accuracy: 96.94%\n",
      "Epoch 5/30, Loss: 0.0004, Accuracy: 96.94%\n",
      "Epoch 6/30, Loss: 0.0003, Accuracy: 96.94%\n",
      "Epoch 7/30, Loss: 0.0003, Accuracy: 96.94%\n",
      "Epoch 8/30, Loss: 0.0003, Accuracy: 96.67%\n",
      "Epoch 9/30, Loss: 0.0003, Accuracy: 96.94%\n",
      "Epoch 10/30, Loss: 0.0003, Accuracy: 96.94%\n",
      "Epoch 11/30, Loss: 0.0003, Accuracy: 96.67%\n",
      "Epoch 12/30, Loss: 0.0002, Accuracy: 96.94%\n",
      "Epoch 13/30, Loss: 0.0002, Accuracy: 96.67%\n",
      "Epoch 14/30, Loss: 0.0002, Accuracy: 96.94%\n",
      "Epoch 15/30, Loss: 0.0002, Accuracy: 96.94%\n",
      "Epoch 16/30, Loss: 0.0002, Accuracy: 96.94%\n",
      "Epoch 17/30, Loss: 0.0002, Accuracy: 96.94%\n",
      "Epoch 18/30, Loss: 0.0002, Accuracy: 96.67%\n",
      "Epoch 19/30, Loss: 0.0002, Accuracy: 96.94%\n",
      "Epoch 20/30, Loss: 0.0002, Accuracy: 96.67%\n",
      "Epoch 21/30, Loss: 0.0001, Accuracy: 97.22%\n",
      "Epoch 22/30, Loss: 0.0001, Accuracy: 96.94%\n",
      "Epoch 23/30, Loss: 0.0001, Accuracy: 96.94%\n",
      "Epoch 24/30, Loss: 0.0001, Accuracy: 96.67%\n",
      "Epoch 25/30, Loss: 0.0001, Accuracy: 96.94%\n",
      "Epoch 26/30, Loss: 0.0001, Accuracy: 96.94%\n",
      "Epoch 27/30, Loss: 0.0001, Accuracy: 96.67%\n",
      "Epoch 28/30, Loss: 0.0001, Accuracy: 96.94%\n",
      "Epoch 29/30, Loss: 0.0001, Accuracy: 96.94%\n",
      "Epoch 30/30, Loss: 0.0001, Accuracy: 96.67%\n",
      "Training complete.\n"
     ]
    }
   ],
   "source": [
    "# Variables to store loss and accuracy\n",
    "train_losses = []\n",
    "test_accuracies = []\n",
    "\n",
    "# Training loop\n",
    "num_epochs = 30\n",
    "for epoch in range(num_epochs):\n",
    "    model.train()\n",
    "    running_loss = 0.0\n",
    "    for inputs, labels in train_dataloader:\n",
    "        # Zero the parameter gradients\n",
    "        optimizer.zero_grad()\n",
    "\n",
    "        # Forward pass\n",
    "        outputs = model(inputs)\n",
    "        labels = labels.long()\n",
    "        loss = criterion(outputs, labels)\n",
    "\n",
    "        # Backward pass and optimize\n",
    "        loss.backward()\n",
    "        optimizer.step()\n",
    "\n",
    "        running_loss += loss.item()\n",
    "\n",
    "    # Calculate average loss over an epoch\n",
    "    train_losses.append(running_loss / len(train_dataloader))\n",
    "\n",
    "    # Evaluate on test data\n",
    "    model.eval()\n",
    "    correct = 0\n",
    "    total = 0\n",
    "    threshold = 0.5  # 예측 임계값 설정\n",
    "    with torch.no_grad():\n",
    "        for inputs, labels in test_dataloader:\n",
    "            outputs = model(inputs)\n",
    "            _, predicted_indices = torch.max(outputs, 1) # 가장 높은 값을 가진 인덱스를 예측값으로 사용\n",
    "            total += labels.size(0)\n",
    "            correct += (predicted_indices == labels).sum().item() # 레이블과 직접 비교\n",
    "\n",
    "    accuracy = correct / total * 100\n",
    "    test_accuracies.append(accuracy)\n",
    "\n",
    "    print(f\"Epoch {epoch + 1}/{num_epochs}, Loss: {train_losses[-1]:.4f}, Accuracy: {accuracy:.2f}%\")\n",
    "print(\"Training complete.\")"
   ]
  },
  {
   "cell_type": "markdown",
   "id": "140d2971-cb6c-4e8a-a98f-4a240be31dc2",
   "metadata": {},
   "source": [
    "## 모델 평가"
   ]
  },
  {
   "cell_type": "code",
   "execution_count": 16,
   "id": "4b69bda3-48ff-45f6-b3d5-bb4fbae5e4f5",
   "metadata": {},
   "outputs": [
    {
     "name": "stdout",
     "output_type": "stream",
     "text": [
      "Confusion Matrix:\n",
      "[[35  0  0  0  1  0  0  0  0  0]\n",
      " [ 0 32  0  0  0  0  0  0  1  0]\n",
      " [ 0  0 35  0  0  0  0  0  0  0]\n",
      " [ 0  0  0 37  0  2  0  0  0  0]\n",
      " [ 0  0  0  0 31  0  0  0  0  0]\n",
      " [ 0  0  0  0  0 44  0  0  0  0]\n",
      " [ 0  0  0  0  0  0 27  0  1  0]\n",
      " [ 0  0  0  0  0  0  0 41  0  0]\n",
      " [ 0  2  0  0  0  1  0  0 42  0]\n",
      " [ 0  0  0  0  0  1  0  0  3 24]]\n",
      "F1 Score: 0.97\n",
      "Precision: 0.97\n",
      "Recall: 0.97\n"
     ]
    }
   ],
   "source": [
    "model.eval()\n",
    "all_labels = []\n",
    "all_predictions = []\n",
    "with torch.no_grad():\n",
    "    for inputs, labels in test_dataloader:\n",
    "        outputs = model(inputs) # outputs shape: [batch_size, 10]\n",
    "\n",
    "        # 멀티클래스 분류: 가장 높은 점수(logit)를 가진 클래스의 인덱스를 예측값으로 사용\n",
    "        _, predicted_indices = torch.max(outputs, 1) # predicted_indices shape: [batch_size]\n",
    "\n",
    "        all_labels.extend(labels.cpu().numpy())\n",
    "        all_predictions.extend(predicted_indices.cpu().numpy()) # 1D 예측값 저장\n",
    "\n",
    "# Convert to numpy arrays\n",
    "all_labels = np.array(all_labels)\n",
    "all_predictions = np.array(all_predictions) # 이제 all_predictions도 1D 형태\n",
    "\n",
    "# Calculate metrics\n",
    "conf_matrix = confusion_matrix(all_labels, all_predictions)\n",
    "\n",
    "# 멀티클래스인 경우 'average' 파라미터 조정 필요\n",
    "f1 = f1_score(all_labels, all_predictions, average='weighted') # 또는 'macro'\n",
    "precision = precision_score(all_labels, all_predictions, average='weighted') # 또는 'macro'\n",
    "recall = recall_score(all_labels, all_predictions, average='weighted') # 또는 'macro'\n",
    "# zero_division=0 또는 1을 precision_score, recall_score, f1_score에 추가하여 경고 방지 가능\n",
    "\n",
    "print(f'Confusion Matrix:\\n{conf_matrix}')\n",
    "print(f'F1 Score: {f1:.2f}')\n",
    "print(f'Precision: {precision:.2f}')\n",
    "print(f'Recall: {recall:.2f}')"
   ]
  }
 ],
 "metadata": {
  "kernelspec": {
   "display_name": "Python 3 (ipykernel)",
   "language": "python",
   "name": "python3"
  },
  "language_info": {
   "codemirror_mode": {
    "name": "ipython",
    "version": 3
   },
   "file_extension": ".py",
   "mimetype": "text/x-python",
   "name": "python",
   "nbconvert_exporter": "python",
   "pygments_lexer": "ipython3",
   "version": "3.12.7"
  }
 },
 "nbformat": 4,
 "nbformat_minor": 5
}
